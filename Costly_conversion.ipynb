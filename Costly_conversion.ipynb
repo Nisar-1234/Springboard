{
 "cells": [
  {
   "cell_type": "code",
   "execution_count": 1,
   "metadata": {},
   "outputs": [
    {
     "name": "stderr",
     "output_type": "stream",
     "text": [
      "/home/titli/anaconda3/lib/python3.6/site-packages/sklearn/cross_validation.py:41: DeprecationWarning: This module was deprecated in version 0.18 in favor of the model_selection module into which all the refactored classes and functions are moved. Also note that the interface of the new CV iterators are different from that of this module. This module will be removed in 0.20.\n",
      "  \"This module will be removed in 0.20.\", DeprecationWarning)\n",
      "/home/titli/anaconda3/lib/python3.6/site-packages/sklearn/grid_search.py:42: DeprecationWarning: This module was deprecated in version 0.18 in favor of the model_selection module into which all the refactored classes and functions are moved. This module will be removed in 0.20.\n",
      "  DeprecationWarning)\n"
     ]
    }
   ],
   "source": [
    "import pandas as pd\n",
    "import numpy as np\n",
    "import seaborn as sns\n",
    "import matplotlib.pyplot as plt\n",
    "import re\n",
    "from datetime import datetime\n",
    "# ML imports\n",
    "from sklearn.cross_validation import train_test_split\n",
    "from sklearn.cross_validation import StratifiedKFold\n",
    "from sklearn.ensemble import RandomForestClassifier\n",
    "from sklearn.grid_search import RandomizedSearchCV\n",
    "from sklearn.ensemble.partial_dependence import plot_partial_dependence\n",
    "from sklearn.metrics import classification_report, roc_auc_score, roc_curve"
   ]
  },
  {
   "cell_type": "code",
   "execution_count": 2,
   "metadata": {},
   "outputs": [
    {
     "data": {
      "text/html": [
       "<div>\n",
       "<style scoped>\n",
       "    .dataframe tbody tr th:only-of-type {\n",
       "        vertical-align: middle;\n",
       "    }\n",
       "\n",
       "    .dataframe tbody tr th {\n",
       "        vertical-align: top;\n",
       "    }\n",
       "\n",
       "    .dataframe thead th {\n",
       "        text-align: right;\n",
       "    }\n",
       "</style>\n",
       "<table border=\"1\" class=\"dataframe\">\n",
       "  <thead>\n",
       "    <tr style=\"text-align: right;\">\n",
       "      <th></th>\n",
       "      <th>user_id</th>\n",
       "      <th>timestamp</th>\n",
       "      <th>source</th>\n",
       "      <th>device</th>\n",
       "      <th>operative_system</th>\n",
       "      <th>test</th>\n",
       "      <th>price</th>\n",
       "      <th>converted</th>\n",
       "    </tr>\n",
       "  </thead>\n",
       "  <tbody>\n",
       "    <tr>\n",
       "      <th>0</th>\n",
       "      <td>604839</td>\n",
       "      <td>2015-05-08 03:38:34</td>\n",
       "      <td>ads_facebook</td>\n",
       "      <td>mobile</td>\n",
       "      <td>iOS</td>\n",
       "      <td>0</td>\n",
       "      <td>39.0</td>\n",
       "      <td>0</td>\n",
       "    </tr>\n",
       "    <tr>\n",
       "      <th>1</th>\n",
       "      <td>624057</td>\n",
       "      <td>2015-05-10 21:08:46</td>\n",
       "      <td>seo-google</td>\n",
       "      <td>mobile</td>\n",
       "      <td>android</td>\n",
       "      <td>0</td>\n",
       "      <td>39.0</td>\n",
       "      <td>0</td>\n",
       "    </tr>\n",
       "    <tr>\n",
       "      <th>2</th>\n",
       "      <td>317970</td>\n",
       "      <td>2015-04-04 15:01:23</td>\n",
       "      <td>ads-bing</td>\n",
       "      <td>mobile</td>\n",
       "      <td>android</td>\n",
       "      <td>0</td>\n",
       "      <td>39.0</td>\n",
       "      <td>0</td>\n",
       "    </tr>\n",
       "    <tr>\n",
       "      <th>3</th>\n",
       "      <td>685636</td>\n",
       "      <td>2015-05-07 07:26:01</td>\n",
       "      <td>direct_traffic</td>\n",
       "      <td>mobile</td>\n",
       "      <td>iOS</td>\n",
       "      <td>1</td>\n",
       "      <td>59.0</td>\n",
       "      <td>0</td>\n",
       "    </tr>\n",
       "    <tr>\n",
       "      <th>4</th>\n",
       "      <td>820854</td>\n",
       "      <td>2015-05-24 11:04:40</td>\n",
       "      <td>ads_facebook</td>\n",
       "      <td>web</td>\n",
       "      <td>mac</td>\n",
       "      <td>0</td>\n",
       "      <td>39.0</td>\n",
       "      <td>0</td>\n",
       "    </tr>\n",
       "  </tbody>\n",
       "</table>\n",
       "</div>"
      ],
      "text/plain": [
       "   user_id            timestamp          source  device operative_system  \\\n",
       "0   604839  2015-05-08 03:38:34    ads_facebook  mobile              iOS   \n",
       "1   624057  2015-05-10 21:08:46      seo-google  mobile          android   \n",
       "2   317970  2015-04-04 15:01:23        ads-bing  mobile          android   \n",
       "3   685636  2015-05-07 07:26:01  direct_traffic  mobile              iOS   \n",
       "4   820854  2015-05-24 11:04:40    ads_facebook     web              mac   \n",
       "\n",
       "   test  price  converted  \n",
       "0     0   39.0          0  \n",
       "1     0   39.0          0  \n",
       "2     0   39.0          0  \n",
       "3     1   59.0          0  \n",
       "4     0   39.0          0  "
      ]
     },
     "execution_count": 2,
     "metadata": {},
     "output_type": "execute_result"
    }
   ],
   "source": [
    "u1 = pd.read_csv('test_results.csv') #index_col = 'user_id')\n",
    "u1 = u1.drop(['Unnamed: 0'], axis=1)\n",
    "u2 = pd.read_csv('user_table.csv')\n",
    "results =  u1[~u1.timestamp.isnull()]\n",
    "results.head()"
   ]
  },
  {
   "cell_type": "code",
   "execution_count": 3,
   "metadata": {},
   "outputs": [
    {
     "name": "stdout",
     "output_type": "stream",
     "text": [
      "<class 'pandas.core.frame.DataFrame'>\n",
      "Int64Index: 316466 entries, 0 to 316799\n",
      "Data columns (total 8 columns):\n",
      "user_id             316466 non-null int64\n",
      "timestamp           316466 non-null object\n",
      "source              316154 non-null object\n",
      "device              316466 non-null object\n",
      "operative_system    296140 non-null object\n",
      "test                316466 non-null int64\n",
      "price               316466 non-null float64\n",
      "converted           316466 non-null int64\n",
      "dtypes: float64(1), int64(3), object(4)\n",
      "memory usage: 21.7+ MB\n"
     ]
    }
   ],
   "source": [
    "results.info()"
   ]
  },
  {
   "cell_type": "code",
   "execution_count": 4,
   "metadata": {},
   "outputs": [],
   "source": [
    "def fixprice(row):\n",
    "    if (row['price'])>100:\n",
    "        if row.test ==1:\n",
    "            return(39.0)\n",
    "        else:\n",
    "            return(59.0)\n",
    "    else:\n",
    "        return(row['price'])"
   ]
  },
  {
   "cell_type": "code",
   "execution_count": 5,
   "metadata": {},
   "outputs": [
    {
     "name": "stderr",
     "output_type": "stream",
     "text": [
      "/home/titli/anaconda3/lib/python3.6/site-packages/ipykernel_launcher.py:1: SettingWithCopyWarning: \n",
      "A value is trying to be set on a copy of a slice from a DataFrame.\n",
      "Try using .loc[row_indexer,col_indexer] = value instead\n",
      "\n",
      "See the caveats in the documentation: http://pandas.pydata.org/pandas-docs/stable/indexing.html#indexing-view-versus-copy\n",
      "  \"\"\"Entry point for launching an IPython kernel.\n"
     ]
    },
    {
     "data": {
      "text/html": [
       "<div>\n",
       "<style scoped>\n",
       "    .dataframe tbody tr th:only-of-type {\n",
       "        vertical-align: middle;\n",
       "    }\n",
       "\n",
       "    .dataframe tbody tr th {\n",
       "        vertical-align: top;\n",
       "    }\n",
       "\n",
       "    .dataframe thead th {\n",
       "        text-align: right;\n",
       "    }\n",
       "</style>\n",
       "<table border=\"1\" class=\"dataframe\">\n",
       "  <thead>\n",
       "    <tr style=\"text-align: right;\">\n",
       "      <th></th>\n",
       "      <th>user_id</th>\n",
       "      <th>timestamp</th>\n",
       "      <th>source</th>\n",
       "      <th>device</th>\n",
       "      <th>operative_system</th>\n",
       "      <th>test</th>\n",
       "      <th>price</th>\n",
       "      <th>converted</th>\n",
       "      <th>price_new</th>\n",
       "    </tr>\n",
       "  </thead>\n",
       "  <tbody>\n",
       "    <tr>\n",
       "      <th>0</th>\n",
       "      <td>604839</td>\n",
       "      <td>2015-05-08 03:38:34</td>\n",
       "      <td>ads_facebook</td>\n",
       "      <td>mobile</td>\n",
       "      <td>iOS</td>\n",
       "      <td>0</td>\n",
       "      <td>39.0</td>\n",
       "      <td>0</td>\n",
       "      <td>39.0</td>\n",
       "    </tr>\n",
       "    <tr>\n",
       "      <th>1</th>\n",
       "      <td>624057</td>\n",
       "      <td>2015-05-10 21:08:46</td>\n",
       "      <td>seo-google</td>\n",
       "      <td>mobile</td>\n",
       "      <td>android</td>\n",
       "      <td>0</td>\n",
       "      <td>39.0</td>\n",
       "      <td>0</td>\n",
       "      <td>39.0</td>\n",
       "    </tr>\n",
       "    <tr>\n",
       "      <th>2</th>\n",
       "      <td>317970</td>\n",
       "      <td>2015-04-04 15:01:23</td>\n",
       "      <td>ads-bing</td>\n",
       "      <td>mobile</td>\n",
       "      <td>android</td>\n",
       "      <td>0</td>\n",
       "      <td>39.0</td>\n",
       "      <td>0</td>\n",
       "      <td>39.0</td>\n",
       "    </tr>\n",
       "    <tr>\n",
       "      <th>3</th>\n",
       "      <td>685636</td>\n",
       "      <td>2015-05-07 07:26:01</td>\n",
       "      <td>direct_traffic</td>\n",
       "      <td>mobile</td>\n",
       "      <td>iOS</td>\n",
       "      <td>1</td>\n",
       "      <td>59.0</td>\n",
       "      <td>0</td>\n",
       "      <td>59.0</td>\n",
       "    </tr>\n",
       "    <tr>\n",
       "      <th>4</th>\n",
       "      <td>820854</td>\n",
       "      <td>2015-05-24 11:04:40</td>\n",
       "      <td>ads_facebook</td>\n",
       "      <td>web</td>\n",
       "      <td>mac</td>\n",
       "      <td>0</td>\n",
       "      <td>39.0</td>\n",
       "      <td>0</td>\n",
       "      <td>39.0</td>\n",
       "    </tr>\n",
       "  </tbody>\n",
       "</table>\n",
       "</div>"
      ],
      "text/plain": [
       "   user_id            timestamp          source  device operative_system  \\\n",
       "0   604839  2015-05-08 03:38:34    ads_facebook  mobile              iOS   \n",
       "1   624057  2015-05-10 21:08:46      seo-google  mobile          android   \n",
       "2   317970  2015-04-04 15:01:23        ads-bing  mobile          android   \n",
       "3   685636  2015-05-07 07:26:01  direct_traffic  mobile              iOS   \n",
       "4   820854  2015-05-24 11:04:40    ads_facebook     web              mac   \n",
       "\n",
       "   test  price  converted  price_new  \n",
       "0     0   39.0          0       39.0  \n",
       "1     0   39.0          0       39.0  \n",
       "2     0   39.0          0       39.0  \n",
       "3     1   59.0          0       59.0  \n",
       "4     0   39.0          0       39.0  "
      ]
     },
     "execution_count": 5,
     "metadata": {},
     "output_type": "execute_result"
    }
   ],
   "source": [
    "results['price_new'] = results.apply(lambda row: fixprice(row), axis=1)\n",
    "results.head()"
   ]
  },
  {
   "cell_type": "code",
   "execution_count": 6,
   "metadata": {},
   "outputs": [],
   "source": [
    "# Display conversion rates per country\n",
    "price_conversion_rate = []\n",
    "for price in results.price_new.unique():\n",
    "    price_conversion_rate.append((price, \n",
    "                                    results[results.price_new == price].converted.sum() * 1.0 / \n",
    "                                    results[results.price_new == price].shape[0]))"
   ]
  },
  {
   "cell_type": "code",
   "execution_count": 7,
   "metadata": {},
   "outputs": [
    {
     "data": {
      "text/plain": [
       "[(39.0, 0.019851953216026338), (59.0, 0.0156744181994023)]"
      ]
     },
     "execution_count": 7,
     "metadata": {},
     "output_type": "execute_result"
    }
   ],
   "source": [
    "price_conversion_rate"
   ]
  },
  {
   "cell_type": "code",
   "execution_count": 8,
   "metadata": {},
   "outputs": [
    {
     "name": "stderr",
     "output_type": "stream",
     "text": [
      "/home/titli/anaconda3/lib/python3.6/site-packages/ipykernel_launcher.py:6: RuntimeWarning: invalid value encountered in double_scalars\n",
      "  \n"
     ]
    },
    {
     "data": {
      "text/plain": [
       "Text(0,0.5,'Conversion Rate')"
      ]
     },
     "execution_count": 8,
     "metadata": {},
     "output_type": "execute_result"
    },
    {
     "data": {
      "image/png": "[encoded data removed]",
      "text/plain": [
       "<Figure size 1080x720 with 1 Axes>"
      ]
     },
     "metadata": {},
     "output_type": "display_data"
    }
   ],
   "source": [
    "# Display conversion rates per country\n",
    "country_conversion_rate = []\n",
    "for source in results.source.unique():\n",
    "    country_conversion_rate.append((source, \n",
    "                                    results[results.source == source].converted.sum() * 1.0 / \n",
    "                                    results[results.source == source].shape[0]))\n",
    "\n",
    "labels, ys = zip(*country_conversion_rate)\n",
    "xs = np.arange(len(labels)) \n",
    "width = 1\n",
    "plt.figure(figsize=(15,10))\n",
    "plt.bar(xs, ys, width, align='center')\n",
    "\n",
    "plt.xticks(xs, labels, fontsize=12, rotation=70)\n",
    "plt.yticks([0, .01, .02, .03, .04, .05, .06, .07], fontsize=12)\n",
    "\n",
    "plt.title(\"Conversion Rate per price\", fontsize=20)\n",
    "plt.xlabel(\"Price\", fontsize=15)\n",
    "plt.ylabel(\"Conversion Rate\", fontsize=15)"
   ]
  },
  {
   "cell_type": "code",
   "execution_count": 9,
   "metadata": {},
   "outputs": [
    {
     "name": "stderr",
     "output_type": "stream",
     "text": [
      "/home/titli/anaconda3/lib/python3.6/site-packages/ipykernel_launcher.py:6: RuntimeWarning: invalid value encountered in double_scalars\n",
      "  \n"
     ]
    },
    {
     "data": {
      "text/plain": [
       "Text(0,0.5,'Conversion Rate')"
      ]
     },
     "execution_count": 9,
     "metadata": {},
     "output_type": "execute_result"
    },
    {
     "data": {
      "image/png": "[encoded data removed]",
      "text/plain": [
       "<Figure size 1080x720 with 1 Axes>"
      ]
     },
     "metadata": {},
     "output_type": "display_data"
    }
   ],
   "source": [
    "# Display conversion rates per country\n",
    "operating_system_conversion_rate = []\n",
    "for source in results.operative_system.unique():\n",
    "    operating_system_conversion_rate.append((source, \n",
    "                                    results[results.operative_system == source].converted.sum() * 1.0 / \n",
    "                                    results[results.operative_system == source].shape[0]))\n",
    "\n",
    "labels, ys = zip(*operating_system_conversion_rate)\n",
    "xs = np.arange(len(labels)) \n",
    "width = 1\n",
    "plt.figure(figsize=(15,10))\n",
    "plt.bar(xs, ys, width, align='center')\n",
    "\n",
    "plt.xticks(xs, labels, fontsize=12, rotation=70)\n",
    "plt.yticks([0, .01, .02, .03, .04, .05, .06, .07], fontsize=12)\n",
    "\n",
    "plt.title(\"Conversion Rate per price\", fontsize=20)\n",
    "plt.xlabel(\"Price\", fontsize=15)\n",
    "plt.ylabel(\"Conversion Rate\", fontsize=15)\n"
   ]
  },
  {
   "cell_type": "markdown",
   "metadata": {},
   "source": [
    "### Time correction"
   ]
  },
  {
   "cell_type": "code",
   "execution_count": 10,
   "metadata": {},
   "outputs": [],
   "source": [
    "new_stamp =[]\n",
    "for i in range(len(results)): #\n",
    "    try:\n",
    "        time_list = re.split('[- :]',results.timestamp[i])\n",
    "        if int(time_list[5])>59:\n",
    "            time_list[5]= '0'+str(int(time_list[5])-59)\n",
    "            time_list[4]= str(int(time_list[4])+1)\n",
    "            #print(time_list[4])\n",
    "        elif int(time_list[4])>59:\n",
    "            time_list[4]= '0'+str(int(time_list[4])-59)\n",
    "            time_list[3]= str(int(time_list[3])+1)\n",
    "        elif int(time_list[3])>23:\n",
    "            time_list[3]= '0'+str(int(time_list[3])-23)\n",
    "            time_list[2]= str(int(time_list[2])+1)\n",
    "        new_stamp.append(str('-'.join(time_list[0:3])+' '+':'.join(time_list[3:6])))\n",
    "    except:\n",
    "        new_stamp.append('NO')\n",
    "    #print((time_list[4]))\n",
    "    #print(str('-'.join(time_list[0:3])+' '+':'.join(time_list[3:6])))\n",
    "    "
   ]
  },
  {
   "cell_type": "code",
   "execution_count": 11,
   "metadata": {},
   "outputs": [
    {
     "name": "stderr",
     "output_type": "stream",
     "text": [
      "/home/titli/anaconda3/lib/python3.6/site-packages/pandas/core/generic.py:3643: SettingWithCopyWarning: \n",
      "A value is trying to be set on a copy of a slice from a DataFrame.\n",
      "Try using .loc[row_indexer,col_indexer] = value instead\n",
      "\n",
      "See the caveats in the documentation: http://pandas.pydata.org/pandas-docs/stable/indexing.html#indexing-view-versus-copy\n",
      "  self[name] = value\n"
     ]
    }
   ],
   "source": [
    "results.timestamp = new_stamp\n",
    "cleaned_data = results[~(results.timestamp=='NO')]"
   ]
  },
  {
   "cell_type": "code",
   "execution_count": 12,
   "metadata": {},
   "outputs": [],
   "source": [
    "interval_conversion = pd.DataFrame()\n",
    "interval_conversion['access_time'] = pd.to_datetime(cleaned_data['timestamp'], errors = 'coerce')\n",
    "interval_conversion['count']= cleaned_data['converted']\n",
    "interval_conversion.set_index('access_time', inplace = True)"
   ]
  },
  {
   "cell_type": "code",
   "execution_count": 13,
   "metadata": {},
   "outputs": [
    {
     "data": {
      "text/html": [
       "<div>\n",
       "<style scoped>\n",
       "    .dataframe tbody tr th:only-of-type {\n",
       "        vertical-align: middle;\n",
       "    }\n",
       "\n",
       "    .dataframe tbody tr th {\n",
       "        vertical-align: top;\n",
       "    }\n",
       "\n",
       "    .dataframe thead th {\n",
       "        text-align: right;\n",
       "    }\n",
       "</style>\n",
       "<table border=\"1\" class=\"dataframe\">\n",
       "  <thead>\n",
       "    <tr style=\"text-align: right;\">\n",
       "      <th></th>\n",
       "      <th>count</th>\n",
       "    </tr>\n",
       "    <tr>\n",
       "      <th>access_time</th>\n",
       "      <th></th>\n",
       "    </tr>\n",
       "  </thead>\n",
       "  <tbody>\n",
       "    <tr>\n",
       "      <th>2015-05-08 03:38:34</th>\n",
       "      <td>0</td>\n",
       "    </tr>\n",
       "    <tr>\n",
       "      <th>2015-05-10 21:08:46</th>\n",
       "      <td>0</td>\n",
       "    </tr>\n",
       "    <tr>\n",
       "      <th>2015-04-04 15:01:23</th>\n",
       "      <td>0</td>\n",
       "    </tr>\n",
       "    <tr>\n",
       "      <th>2015-05-07 07:26:01</th>\n",
       "      <td>0</td>\n",
       "    </tr>\n",
       "    <tr>\n",
       "      <th>2015-05-24 11:04:40</th>\n",
       "      <td>0</td>\n",
       "    </tr>\n",
       "  </tbody>\n",
       "</table>\n",
       "</div>"
      ],
      "text/plain": [
       "                     count\n",
       "access_time               \n",
       "2015-05-08 03:38:34      0\n",
       "2015-05-10 21:08:46      0\n",
       "2015-04-04 15:01:23      0\n",
       "2015-05-07 07:26:01      0\n",
       "2015-05-24 11:04:40      0"
      ]
     },
     "execution_count": 13,
     "metadata": {},
     "output_type": "execute_result"
    }
   ],
   "source": [
    "interval_conversion.head()"
   ]
  },
  {
   "cell_type": "code",
   "execution_count": 14,
   "metadata": {},
   "outputs": [
    {
     "data": {
      "text/plain": [
       "Text(0,0.5,'Mean conversion rate')"
      ]
     },
     "execution_count": 14,
     "metadata": {},
     "output_type": "execute_result"
    },
    {
     "data": {
      "image/png": "[encoded data removed]",
      "text/plain": [
       "<Figure size 864x432 with 1 Axes>"
      ]
     },
     "metadata": {},
     "output_type": "display_data"
    }
   ],
   "source": [
    "interval_days = interval_conversion.resample('1D').mean()\n",
    "interval_days.plot(color='blue', fontsize=15, figsize=(12, 6), legend = False)\n",
    "plt.xlabel('1 Day interval', fontsize = 15)\n",
    "plt.ylabel('Mean conversion rate', fontsize = 15)\n",
    "#index_month = logins.index.week"
   ]
  },
  {
   "cell_type": "markdown",
   "metadata": {},
   "source": [
    "### Combining user table"
   ]
  },
  {
   "cell_type": "code",
   "execution_count": 15,
   "metadata": {},
   "outputs": [
    {
     "data": {
      "text/html": [
       "<div>\n",
       "<style scoped>\n",
       "    .dataframe tbody tr th:only-of-type {\n",
       "        vertical-align: middle;\n",
       "    }\n",
       "\n",
       "    .dataframe tbody tr th {\n",
       "        vertical-align: top;\n",
       "    }\n",
       "\n",
       "    .dataframe thead th {\n",
       "        text-align: right;\n",
       "    }\n",
       "</style>\n",
       "<table border=\"1\" class=\"dataframe\">\n",
       "  <thead>\n",
       "    <tr style=\"text-align: right;\">\n",
       "      <th></th>\n",
       "      <th>user_id</th>\n",
       "      <th>city</th>\n",
       "      <th>country</th>\n",
       "      <th>lat</th>\n",
       "      <th>long</th>\n",
       "    </tr>\n",
       "  </thead>\n",
       "  <tbody>\n",
       "    <tr>\n",
       "      <th>0</th>\n",
       "      <td>510335</td>\n",
       "      <td>Peabody</td>\n",
       "      <td>USA</td>\n",
       "      <td>42.53</td>\n",
       "      <td>-70.97</td>\n",
       "    </tr>\n",
       "    <tr>\n",
       "      <th>1</th>\n",
       "      <td>89568</td>\n",
       "      <td>Reno</td>\n",
       "      <td>USA</td>\n",
       "      <td>39.54</td>\n",
       "      <td>-119.82</td>\n",
       "    </tr>\n",
       "    <tr>\n",
       "      <th>2</th>\n",
       "      <td>434134</td>\n",
       "      <td>Rialto</td>\n",
       "      <td>USA</td>\n",
       "      <td>34.11</td>\n",
       "      <td>-117.39</td>\n",
       "    </tr>\n",
       "    <tr>\n",
       "      <th>3</th>\n",
       "      <td>289769</td>\n",
       "      <td>Carson City</td>\n",
       "      <td>USA</td>\n",
       "      <td>39.15</td>\n",
       "      <td>-119.74</td>\n",
       "    </tr>\n",
       "    <tr>\n",
       "      <th>4</th>\n",
       "      <td>939586</td>\n",
       "      <td>Chicago</td>\n",
       "      <td>USA</td>\n",
       "      <td>41.84</td>\n",
       "      <td>-87.68</td>\n",
       "    </tr>\n",
       "  </tbody>\n",
       "</table>\n",
       "</div>"
      ],
      "text/plain": [
       "   user_id         city country    lat    long\n",
       "0   510335      Peabody     USA  42.53  -70.97\n",
       "1    89568         Reno     USA  39.54 -119.82\n",
       "2   434134       Rialto     USA  34.11 -117.39\n",
       "3   289769  Carson City     USA  39.15 -119.74\n",
       "4   939586      Chicago     USA  41.84  -87.68"
      ]
     },
     "execution_count": 15,
     "metadata": {},
     "output_type": "execute_result"
    }
   ],
   "source": [
    "u2.head()"
   ]
  },
  {
   "cell_type": "code",
   "execution_count": 16,
   "metadata": {},
   "outputs": [],
   "source": [
    "def getreviews(user_ids, users, original):\n",
    "    \"\"\" gets one text review for each user in user_ids list\"\"\"\n",
    "    result=[]\n",
    "    for i in range(len(original)):\n",
    "        if users['user_id'].iloc[i] in user_ids: \n",
    "            result.append({'city': users.city.iloc[i], 'country': users.country.iloc[i], 'source': original.source.iloc[i], \\\n",
    "                          'device': original.device.iloc[i], 'operative': original.operative_system.iloc[i], \\\n",
    "                           'price': original.price_new.iloc[i]})\n",
    "    reviewdata = pd.DataFrame(result)\n",
    "    return reviewdata"
   ]
  },
  {
   "cell_type": "code",
   "execution_count": 17,
   "metadata": {},
   "outputs": [
    {
     "ename": "IndexError",
     "evalue": "single positional indexer is out-of-bounds",
     "output_type": "error",
     "traceback": [
      "\u001b[0;31m---------------------------------------------------------------------------\u001b[0m",
      "\u001b[0;31mIndexError\u001b[0m                                Traceback (most recent call last)",
      "\u001b[0;32m<ipython-input-17-b0f7ec95a8bf>\u001b[0m in \u001b[0;36m<module>\u001b[0;34m()\u001b[0m\n\u001b[1;32m      1\u001b[0m \u001b[0muser_ids\u001b[0m\u001b[0;34m=\u001b[0m \u001b[0mu1\u001b[0m\u001b[0;34m.\u001b[0m\u001b[0muser_id\u001b[0m\u001b[0;34m.\u001b[0m\u001b[0munique\u001b[0m\u001b[0;34m(\u001b[0m\u001b[0;34m)\u001b[0m\u001b[0;34m\u001b[0m\u001b[0m\n\u001b[0;32m----> 2\u001b[0;31m \u001b[0mreview_texts_all\u001b[0m \u001b[0;34m=\u001b[0m \u001b[0mgetreviews\u001b[0m\u001b[0;34m(\u001b[0m\u001b[0muser_ids\u001b[0m\u001b[0;34m,\u001b[0m\u001b[0mu2\u001b[0m\u001b[0;34m,\u001b[0m\u001b[0mresults\u001b[0m\u001b[0;34m)\u001b[0m\u001b[0;34m\u001b[0m\u001b[0m\n\u001b[0m",
      "\u001b[0;32m<ipython-input-16-b1c9e4c1c018>\u001b[0m in \u001b[0;36mgetreviews\u001b[0;34m(user_ids, users, original)\u001b[0m\n\u001b[1;32m      3\u001b[0m     \u001b[0mresult\u001b[0m\u001b[0;34m=\u001b[0m\u001b[0;34m[\u001b[0m\u001b[0;34m]\u001b[0m\u001b[0;34m\u001b[0m\u001b[0m\n\u001b[1;32m      4\u001b[0m     \u001b[0;32mfor\u001b[0m \u001b[0mi\u001b[0m \u001b[0;32min\u001b[0m \u001b[0mrange\u001b[0m\u001b[0;34m(\u001b[0m\u001b[0mlen\u001b[0m\u001b[0;34m(\u001b[0m\u001b[0moriginal\u001b[0m\u001b[0;34m)\u001b[0m\u001b[0;34m)\u001b[0m\u001b[0;34m:\u001b[0m\u001b[0;34m\u001b[0m\u001b[0m\n\u001b[0;32m----> 5\u001b[0;31m         \u001b[0;32mif\u001b[0m \u001b[0musers\u001b[0m\u001b[0;34m[\u001b[0m\u001b[0;34m'user_id'\u001b[0m\u001b[0;34m]\u001b[0m\u001b[0;34m.\u001b[0m\u001b[0miloc\u001b[0m\u001b[0;34m[\u001b[0m\u001b[0mi\u001b[0m\u001b[0;34m]\u001b[0m \u001b[0;32min\u001b[0m \u001b[0muser_ids\u001b[0m\u001b[0;34m:\u001b[0m\u001b[0;34m\u001b[0m\u001b[0m\n\u001b[0m\u001b[1;32m      6\u001b[0m             \u001b[0mresult\u001b[0m\u001b[0;34m.\u001b[0m\u001b[0mappend\u001b[0m\u001b[0;34m(\u001b[0m\u001b[0;34m{\u001b[0m\u001b[0;34m'city'\u001b[0m\u001b[0;34m:\u001b[0m \u001b[0musers\u001b[0m\u001b[0;34m.\u001b[0m\u001b[0mcity\u001b[0m\u001b[0;34m.\u001b[0m\u001b[0miloc\u001b[0m\u001b[0;34m[\u001b[0m\u001b[0mi\u001b[0m\u001b[0;34m]\u001b[0m\u001b[0;34m,\u001b[0m \u001b[0;34m'country'\u001b[0m\u001b[0;34m:\u001b[0m \u001b[0musers\u001b[0m\u001b[0;34m.\u001b[0m\u001b[0mcountry\u001b[0m\u001b[0;34m.\u001b[0m\u001b[0miloc\u001b[0m\u001b[0;34m[\u001b[0m\u001b[0mi\u001b[0m\u001b[0;34m]\u001b[0m\u001b[0;34m,\u001b[0m \u001b[0;34m'source'\u001b[0m\u001b[0;34m:\u001b[0m \u001b[0moriginal\u001b[0m\u001b[0;34m.\u001b[0m\u001b[0msource\u001b[0m\u001b[0;34m.\u001b[0m\u001b[0miloc\u001b[0m\u001b[0;34m[\u001b[0m\u001b[0mi\u001b[0m\u001b[0;34m]\u001b[0m\u001b[0;34m,\u001b[0m                           \u001b[0;34m'device'\u001b[0m\u001b[0;34m:\u001b[0m \u001b[0moriginal\u001b[0m\u001b[0;34m.\u001b[0m\u001b[0mdevice\u001b[0m\u001b[0;34m.\u001b[0m\u001b[0miloc\u001b[0m\u001b[0;34m[\u001b[0m\u001b[0mi\u001b[0m\u001b[0;34m]\u001b[0m\u001b[0;34m,\u001b[0m \u001b[0;34m'operative'\u001b[0m\u001b[0;34m:\u001b[0m \u001b[0moriginal\u001b[0m\u001b[0;34m.\u001b[0m\u001b[0moperative_system\u001b[0m\u001b[0;34m.\u001b[0m\u001b[0miloc\u001b[0m\u001b[0;34m[\u001b[0m\u001b[0mi\u001b[0m\u001b[0;34m]\u001b[0m\u001b[0;34m,\u001b[0m                            \u001b[0;34m'price'\u001b[0m\u001b[0;34m:\u001b[0m \u001b[0moriginal\u001b[0m\u001b[0;34m.\u001b[0m\u001b[0mprice_new\u001b[0m\u001b[0;34m.\u001b[0m\u001b[0miloc\u001b[0m\u001b[0;34m[\u001b[0m\u001b[0mi\u001b[0m\u001b[0;34m]\u001b[0m\u001b[0;34m}\u001b[0m\u001b[0;34m)\u001b[0m\u001b[0;34m\u001b[0m\u001b[0m\n\u001b[1;32m      7\u001b[0m     \u001b[0mreviewdata\u001b[0m \u001b[0;34m=\u001b[0m \u001b[0mpd\u001b[0m\u001b[0;34m.\u001b[0m\u001b[0mDataFrame\u001b[0m\u001b[0;34m(\u001b[0m\u001b[0mresult\u001b[0m\u001b[0;34m)\u001b[0m\u001b[0;34m\u001b[0m\u001b[0m\n",
      "\u001b[0;32m~/anaconda3/lib/python3.6/site-packages/pandas/core/indexing.py\u001b[0m in \u001b[0;36m__getitem__\u001b[0;34m(self, key)\u001b[0m\n\u001b[1;32m   1371\u001b[0m \u001b[0;34m\u001b[0m\u001b[0m\n\u001b[1;32m   1372\u001b[0m             \u001b[0mmaybe_callable\u001b[0m \u001b[0;34m=\u001b[0m \u001b[0mcom\u001b[0m\u001b[0;34m.\u001b[0m\u001b[0m_apply_if_callable\u001b[0m\u001b[0;34m(\u001b[0m\u001b[0mkey\u001b[0m\u001b[0;34m,\u001b[0m \u001b[0mself\u001b[0m\u001b[0;34m.\u001b[0m\u001b[0mobj\u001b[0m\u001b[0;34m)\u001b[0m\u001b[0;34m\u001b[0m\u001b[0m\n\u001b[0;32m-> 1373\u001b[0;31m             \u001b[0;32mreturn\u001b[0m \u001b[0mself\u001b[0m\u001b[0;34m.\u001b[0m\u001b[0m_getitem_axis\u001b[0m\u001b[0;34m(\u001b[0m\u001b[0mmaybe_callable\u001b[0m\u001b[0;34m,\u001b[0m \u001b[0maxis\u001b[0m\u001b[0;34m=\u001b[0m\u001b[0maxis\u001b[0m\u001b[0;34m)\u001b[0m\u001b[0;34m\u001b[0m\u001b[0m\n\u001b[0m\u001b[1;32m   1374\u001b[0m \u001b[0;34m\u001b[0m\u001b[0m\n\u001b[1;32m   1375\u001b[0m     \u001b[0;32mdef\u001b[0m \u001b[0m_is_scalar_access\u001b[0m\u001b[0;34m(\u001b[0m\u001b[0mself\u001b[0m\u001b[0;34m,\u001b[0m \u001b[0mkey\u001b[0m\u001b[0;34m)\u001b[0m\u001b[0;34m:\u001b[0m\u001b[0;34m\u001b[0m\u001b[0m\n",
      "\u001b[0;32m~/anaconda3/lib/python3.6/site-packages/pandas/core/indexing.py\u001b[0m in \u001b[0;36m_getitem_axis\u001b[0;34m(self, key, axis)\u001b[0m\n\u001b[1;32m   1828\u001b[0m \u001b[0;34m\u001b[0m\u001b[0m\n\u001b[1;32m   1829\u001b[0m             \u001b[0;31m# validate the location\u001b[0m\u001b[0;34m\u001b[0m\u001b[0;34m\u001b[0m\u001b[0m\n\u001b[0;32m-> 1830\u001b[0;31m             \u001b[0mself\u001b[0m\u001b[0;34m.\u001b[0m\u001b[0m_is_valid_integer\u001b[0m\u001b[0;34m(\u001b[0m\u001b[0mkey\u001b[0m\u001b[0;34m,\u001b[0m \u001b[0maxis\u001b[0m\u001b[0;34m)\u001b[0m\u001b[0;34m\u001b[0m\u001b[0m\n\u001b[0m\u001b[1;32m   1831\u001b[0m \u001b[0;34m\u001b[0m\u001b[0m\n\u001b[1;32m   1832\u001b[0m             \u001b[0;32mreturn\u001b[0m \u001b[0mself\u001b[0m\u001b[0;34m.\u001b[0m\u001b[0m_get_loc\u001b[0m\u001b[0;34m(\u001b[0m\u001b[0mkey\u001b[0m\u001b[0;34m,\u001b[0m \u001b[0maxis\u001b[0m\u001b[0;34m=\u001b[0m\u001b[0maxis\u001b[0m\u001b[0;34m)\u001b[0m\u001b[0;34m\u001b[0m\u001b[0m\n",
      "\u001b[0;32m~/anaconda3/lib/python3.6/site-packages/pandas/core/indexing.py\u001b[0m in \u001b[0;36m_is_valid_integer\u001b[0;34m(self, key, axis)\u001b[0m\n\u001b[1;32m   1711\u001b[0m         \u001b[0ml\u001b[0m \u001b[0;34m=\u001b[0m \u001b[0mlen\u001b[0m\u001b[0;34m(\u001b[0m\u001b[0max\u001b[0m\u001b[0;34m)\u001b[0m\u001b[0;34m\u001b[0m\u001b[0m\n\u001b[1;32m   1712\u001b[0m         \u001b[0;32mif\u001b[0m \u001b[0mkey\u001b[0m \u001b[0;34m>=\u001b[0m \u001b[0ml\u001b[0m \u001b[0;32mor\u001b[0m \u001b[0mkey\u001b[0m \u001b[0;34m<\u001b[0m \u001b[0;34m-\u001b[0m\u001b[0ml\u001b[0m\u001b[0;34m:\u001b[0m\u001b[0;34m\u001b[0m\u001b[0m\n\u001b[0;32m-> 1713\u001b[0;31m             \u001b[0;32mraise\u001b[0m \u001b[0mIndexError\u001b[0m\u001b[0;34m(\u001b[0m\u001b[0;34m\"single positional indexer is out-of-bounds\"\u001b[0m\u001b[0;34m)\u001b[0m\u001b[0;34m\u001b[0m\u001b[0m\n\u001b[0m\u001b[1;32m   1714\u001b[0m         \u001b[0;32mreturn\u001b[0m \u001b[0;32mTrue\u001b[0m\u001b[0;34m\u001b[0m\u001b[0m\n\u001b[1;32m   1715\u001b[0m \u001b[0;34m\u001b[0m\u001b[0m\n",
      "\u001b[0;31mIndexError\u001b[0m: single positional indexer is out-of-bounds"
     ]
    }
   ],
   "source": [
    "user_ids= u1.user_id.unique()\n",
    "review_texts_all = getreviews(user_ids,u2,results)"
   ]
  },
  {
   "cell_type": "code",
   "execution_count": null,
   "metadata": {},
   "outputs": [],
   "source": [
    "review_texts_all.head()"
   ]
  },
  {
   "cell_type": "code",
   "execution_count": 18,
   "metadata": {},
   "outputs": [
    {
     "data": {
      "text/html": [
       "<div>\n",
       "<style scoped>\n",
       "    .dataframe tbody tr th:only-of-type {\n",
       "        vertical-align: middle;\n",
       "    }\n",
       "\n",
       "    .dataframe tbody tr th {\n",
       "        vertical-align: top;\n",
       "    }\n",
       "\n",
       "    .dataframe thead th {\n",
       "        text-align: right;\n",
       "    }\n",
       "</style>\n",
       "<table border=\"1\" class=\"dataframe\">\n",
       "  <thead>\n",
       "    <tr style=\"text-align: right;\">\n",
       "      <th></th>\n",
       "      <th>source_ads-bing</th>\n",
       "      <th>source_ads-google</th>\n",
       "      <th>source_ads-yahoo</th>\n",
       "      <th>source_ads_facebook</th>\n",
       "      <th>source_ads_other</th>\n",
       "      <th>source_direct_traffic</th>\n",
       "      <th>source_friend_referral</th>\n",
       "      <th>source_seo-bing</th>\n",
       "      <th>source_seo-google</th>\n",
       "      <th>source_seo-other</th>\n",
       "      <th>...</th>\n",
       "      <th>source_direct_traffic</th>\n",
       "      <th>source_friend_referral</th>\n",
       "      <th>source_seo-bing</th>\n",
       "      <th>source_seo-google</th>\n",
       "      <th>source_seo-other</th>\n",
       "      <th>source_seo-yahoo</th>\n",
       "      <th>source_seo_facebook</th>\n",
       "      <th>operative_system_mobile</th>\n",
       "      <th>operative_system_web</th>\n",
       "      <th>price_new</th>\n",
       "    </tr>\n",
       "  </thead>\n",
       "  <tbody>\n",
       "    <tr>\n",
       "      <th>0</th>\n",
       "      <td>0</td>\n",
       "      <td>0</td>\n",
       "      <td>0</td>\n",
       "      <td>1</td>\n",
       "      <td>0</td>\n",
       "      <td>0</td>\n",
       "      <td>0</td>\n",
       "      <td>0</td>\n",
       "      <td>0</td>\n",
       "      <td>0</td>\n",
       "      <td>...</td>\n",
       "      <td>0</td>\n",
       "      <td>0</td>\n",
       "      <td>0</td>\n",
       "      <td>0</td>\n",
       "      <td>0</td>\n",
       "      <td>0</td>\n",
       "      <td>0</td>\n",
       "      <td>1</td>\n",
       "      <td>0</td>\n",
       "      <td>39.0</td>\n",
       "    </tr>\n",
       "    <tr>\n",
       "      <th>1</th>\n",
       "      <td>0</td>\n",
       "      <td>0</td>\n",
       "      <td>0</td>\n",
       "      <td>0</td>\n",
       "      <td>0</td>\n",
       "      <td>0</td>\n",
       "      <td>0</td>\n",
       "      <td>0</td>\n",
       "      <td>1</td>\n",
       "      <td>0</td>\n",
       "      <td>...</td>\n",
       "      <td>0</td>\n",
       "      <td>0</td>\n",
       "      <td>0</td>\n",
       "      <td>1</td>\n",
       "      <td>0</td>\n",
       "      <td>0</td>\n",
       "      <td>0</td>\n",
       "      <td>1</td>\n",
       "      <td>0</td>\n",
       "      <td>39.0</td>\n",
       "    </tr>\n",
       "    <tr>\n",
       "      <th>2</th>\n",
       "      <td>1</td>\n",
       "      <td>0</td>\n",
       "      <td>0</td>\n",
       "      <td>0</td>\n",
       "      <td>0</td>\n",
       "      <td>0</td>\n",
       "      <td>0</td>\n",
       "      <td>0</td>\n",
       "      <td>0</td>\n",
       "      <td>0</td>\n",
       "      <td>...</td>\n",
       "      <td>0</td>\n",
       "      <td>0</td>\n",
       "      <td>0</td>\n",
       "      <td>0</td>\n",
       "      <td>0</td>\n",
       "      <td>0</td>\n",
       "      <td>0</td>\n",
       "      <td>1</td>\n",
       "      <td>0</td>\n",
       "      <td>39.0</td>\n",
       "    </tr>\n",
       "    <tr>\n",
       "      <th>3</th>\n",
       "      <td>0</td>\n",
       "      <td>0</td>\n",
       "      <td>0</td>\n",
       "      <td>0</td>\n",
       "      <td>0</td>\n",
       "      <td>1</td>\n",
       "      <td>0</td>\n",
       "      <td>0</td>\n",
       "      <td>0</td>\n",
       "      <td>0</td>\n",
       "      <td>...</td>\n",
       "      <td>1</td>\n",
       "      <td>0</td>\n",
       "      <td>0</td>\n",
       "      <td>0</td>\n",
       "      <td>0</td>\n",
       "      <td>0</td>\n",
       "      <td>0</td>\n",
       "      <td>1</td>\n",
       "      <td>0</td>\n",
       "      <td>59.0</td>\n",
       "    </tr>\n",
       "    <tr>\n",
       "      <th>4</th>\n",
       "      <td>0</td>\n",
       "      <td>0</td>\n",
       "      <td>0</td>\n",
       "      <td>1</td>\n",
       "      <td>0</td>\n",
       "      <td>0</td>\n",
       "      <td>0</td>\n",
       "      <td>0</td>\n",
       "      <td>0</td>\n",
       "      <td>0</td>\n",
       "      <td>...</td>\n",
       "      <td>0</td>\n",
       "      <td>0</td>\n",
       "      <td>0</td>\n",
       "      <td>0</td>\n",
       "      <td>0</td>\n",
       "      <td>0</td>\n",
       "      <td>0</td>\n",
       "      <td>0</td>\n",
       "      <td>1</td>\n",
       "      <td>39.0</td>\n",
       "    </tr>\n",
       "  </tbody>\n",
       "</table>\n",
       "<p>5 rows × 27 columns</p>\n",
       "</div>"
      ],
      "text/plain": [
       "   source_ads-bing  source_ads-google  source_ads-yahoo  source_ads_facebook  \\\n",
       "0                0                  0                 0                    1   \n",
       "1                0                  0                 0                    0   \n",
       "2                1                  0                 0                    0   \n",
       "3                0                  0                 0                    0   \n",
       "4                0                  0                 0                    1   \n",
       "\n",
       "   source_ads_other  source_direct_traffic  source_friend_referral  \\\n",
       "0                 0                      0                       0   \n",
       "1                 0                      0                       0   \n",
       "2                 0                      0                       0   \n",
       "3                 0                      1                       0   \n",
       "4                 0                      0                       0   \n",
       "\n",
       "   source_seo-bing  source_seo-google  source_seo-other    ...      \\\n",
       "0                0                  0                 0    ...       \n",
       "1                0                  1                 0    ...       \n",
       "2                0                  0                 0    ...       \n",
       "3                0                  0                 0    ...       \n",
       "4                0                  0                 0    ...       \n",
       "\n",
       "   source_direct_traffic  source_friend_referral  source_seo-bing  \\\n",
       "0                      0                       0                0   \n",
       "1                      0                       0                0   \n",
       "2                      0                       0                0   \n",
       "3                      1                       0                0   \n",
       "4                      0                       0                0   \n",
       "\n",
       "   source_seo-google  source_seo-other  source_seo-yahoo  source_seo_facebook  \\\n",
       "0                  0                 0                 0                    0   \n",
       "1                  1                 0                 0                    0   \n",
       "2                  0                 0                 0                    0   \n",
       "3                  0                 0                 0                    0   \n",
       "4                  0                 0                 0                    0   \n",
       "\n",
       "   operative_system_mobile  operative_system_web  price_new  \n",
       "0                        1                     0       39.0  \n",
       "1                        1                     0       39.0  \n",
       "2                        1                     0       39.0  \n",
       "3                        1                     0       59.0  \n",
       "4                        0                     1       39.0  \n",
       "\n",
       "[5 rows x 27 columns]"
      ]
     },
     "execution_count": 18,
     "metadata": {},
     "output_type": "execute_result"
    }
   ],
   "source": [
    "dummies = pd.DataFrame()\n",
    "# Create dummy variables for country values\n",
    "source_dummies = pd.get_dummies(results.source, prefix='source')\n",
    "dummies = pd.concat([dummies, source_dummies], axis=1)\n",
    "# Create dummy variables for source values\n",
    "device_dummies = pd.get_dummies(results.device, prefix='device')\n",
    "dummies = pd.concat([dummies, source_dummies], axis=1)\n",
    "operative_system_dummies = pd.get_dummies(results.device, prefix='operative_system')\n",
    "dummies = pd.concat([dummies, operative_system_dummies], axis=1)\n",
    "dummies = pd.concat([dummies, results.price_new], axis=1)\n",
    "dummies.head()\n"
   ]
  },
  {
   "cell_type": "code",
   "execution_count": 19,
   "metadata": {},
   "outputs": [
    {
     "name": "stdout",
     "output_type": "stream",
     "text": [
      "Fitting 5 folds for each of 10 candidates, totalling 50 fits\n",
      "[CV] n_estimators=200, max_depth=3, criterion=entropy ................\n",
      "[CV] n_estimators=200, max_depth=3, criterion=entropy ................\n",
      "[CV] n_estimators=200, max_depth=3, criterion=entropy ................\n",
      "[CV] n_estimators=200, max_depth=3, criterion=entropy ................\n",
      "[CV] n_estimators=200, max_depth=3, criterion=entropy ................\n",
      "[CV] n_estimators=50, max_depth=5, criterion=gini ....................\n",
      "[CV] n_estimators=50, max_depth=5, criterion=gini ....................\n",
      "[CV] n_estimators=50, max_depth=5, criterion=gini ....................\n",
      "[CV] n_estimators=50, max_depth=5, criterion=gini ....................\n",
      "[CV] n_estimators=50, max_depth=5, criterion=gini ....................\n",
      "[CV]  n_estimators=50, max_depth=5, criterion=gini, score=0.633111 -  17.1s\n",
      "[CV] n_estimators=150, max_depth=5, criterion=gini ...................\n",
      "[CV]  n_estimators=50, max_depth=5, criterion=gini, score=0.639002 -  17.2s\n",
      "[CV] n_estimators=150, max_depth=5, criterion=gini ...................\n",
      "[CV]  n_estimators=50, max_depth=5, criterion=gini, score=0.639228 -  17.4s\n",
      "[CV] n_estimators=150, max_depth=5, criterion=gini ...................\n",
      "[CV]  n_estimators=50, max_depth=5, criterion=gini, score=0.577732 -  18.4s\n",
      "[CV] n_estimators=150, max_depth=5, criterion=gini ...................\n",
      "[CV]  n_estimators=50, max_depth=5, criterion=gini, score=0.641869 -  18.4s\n",
      "[CV] n_estimators=150, max_depth=5, criterion=gini ...................\n"
     ]
    },
    {
     "name": "stderr",
     "output_type": "stream",
     "text": [
      "[Parallel(n_jobs=10)]: Done   5 tasks      | elapsed:   19.1s\n"
     ]
    },
    {
     "name": "stdout",
     "output_type": "stream",
     "text": [
      "[CV]  n_estimators=200, max_depth=3, criterion=entropy, score=0.580034 -  43.8s\n",
      "[CV] n_estimators=200, max_depth=3, criterion=gini ...................\n",
      "[CV]  n_estimators=200, max_depth=3, criterion=entropy, score=0.607877 -  44.3s\n",
      "[CV]  n_estimators=200, max_depth=3, criterion=entropy, score=0.639002 -  44.3s\n",
      "[CV] n_estimators=200, max_depth=3, criterion=gini ...................\n",
      "[CV] n_estimators=200, max_depth=3, criterion=gini ...................\n",
      "[CV]  n_estimators=200, max_depth=3, criterion=entropy, score=0.633111 -  45.2s\n",
      "[CV] n_estimators=200, max_depth=3, criterion=gini ...................\n",
      "[CV]  n_estimators=200, max_depth=3, criterion=entropy, score=0.606388 -  45.3s\n",
      "[CV] n_estimators=200, max_depth=3, criterion=gini ...................\n",
      "[CV]  n_estimators=150, max_depth=5, criterion=gini, score=0.633111 -  50.9s\n",
      "[CV] n_estimators=100, max_depth=3, criterion=gini ...................\n",
      "[CV]  n_estimators=150, max_depth=5, criterion=gini, score=0.602514 -  51.8s\n",
      "[CV]  n_estimators=150, max_depth=5, criterion=gini, score=0.604153 -  51.2s\n",
      "[CV] n_estimators=100, max_depth=3, criterion=gini ...................\n",
      "[CV] n_estimators=100, max_depth=3, criterion=gini ...................\n"
     ]
    },
    {
     "name": "stderr",
     "output_type": "stream",
     "text": [
      "[Parallel(n_jobs=10)]: Done  12 tasks      | elapsed:  1.2min\n"
     ]
    },
    {
     "name": "stdout",
     "output_type": "stream",
     "text": [
      "[CV]  n_estimators=150, max_depth=5, criterion=gini, score=0.639002 -  51.1s\n",
      "[CV] n_estimators=100, max_depth=3, criterion=gini ...................\n",
      "[CV]  n_estimators=150, max_depth=5, criterion=gini, score=0.636858 -  51.2s\n",
      "[CV] n_estimators=100, max_depth=3, criterion=gini ...................\n",
      "[CV]  n_estimators=200, max_depth=3, criterion=gini, score=0.641869 -  44.6s\n",
      "[CV] n_estimators=50, max_depth=5, criterion=entropy .................\n",
      "[CV]  n_estimators=200, max_depth=3, criterion=gini, score=0.633111 -  45.4s\n",
      "[CV] n_estimators=50, max_depth=5, criterion=entropy .................\n",
      "[CV]  n_estimators=200, max_depth=3, criterion=gini, score=0.604817 -  46.3s\n",
      "[CV] n_estimators=50, max_depth=5, criterion=entropy .................\n",
      "[CV]  n_estimators=200, max_depth=3, criterion=gini, score=0.639002 -  45.8s\n",
      "[CV] n_estimators=50, max_depth=5, criterion=entropy .................\n",
      "[CV]  n_estimators=100, max_depth=3, criterion=gini, score=0.604817 -  22.6s\n",
      "[CV] n_estimators=50, max_depth=5, criterion=entropy .................\n",
      "[CV]  n_estimators=200, max_depth=3, criterion=gini, score=0.639228 -  45.9s\n",
      "[CV] n_estimators=50, max_depth=3, criterion=gini ....................\n"
     ]
    },
    {
     "name": "stderr",
     "output_type": "stream",
     "text": [
      "[Parallel(n_jobs=10)]: Done  21 tasks      | elapsed:  1.5min\n"
     ]
    },
    {
     "name": "stdout",
     "output_type": "stream",
     "text": [
      "[CV]  n_estimators=100, max_depth=3, criterion=gini, score=0.639002 -  22.5s\n",
      "[CV] n_estimators=50, max_depth=3, criterion=gini ....................\n",
      "[CV]  n_estimators=100, max_depth=3, criterion=gini, score=0.641869 -  23.6s\n",
      "[CV] n_estimators=50, max_depth=3, criterion=gini ....................\n",
      "[CV]  n_estimators=100, max_depth=3, criterion=gini, score=0.637693 -  23.8s\n",
      "[CV] n_estimators=50, max_depth=3, criterion=gini ....................\n",
      "[CV]  n_estimators=100, max_depth=3, criterion=gini, score=0.639228 -  23.3s\n",
      "[CV] n_estimators=50, max_depth=3, criterion=gini ....................\n",
      "[CV]  n_estimators=50, max_depth=3, criterion=gini, score=0.580034 -  12.0s\n",
      "[CV] n_estimators=100, max_depth=5, criterion=gini ...................\n",
      "[CV]  n_estimators=50, max_depth=3, criterion=gini, score=0.618982 -  11.8s\n",
      "[CV] n_estimators=100, max_depth=5, criterion=gini ...................\n",
      "[CV]  n_estimators=50, max_depth=3, criterion=gini, score=0.639657 -  11.2s\n",
      "[CV]  n_estimators=50, max_depth=3, criterion=gini, score=0.639228 -  10.9s\n",
      "[CV] n_estimators=100, max_depth=5, criterion=gini ...................\n",
      "[CV] n_estimators=100, max_depth=5, criterion=gini ...................\n",
      "[CV]  n_estimators=50, max_depth=3, criterion=gini, score=0.639002 -  12.0s\n",
      "[CV] n_estimators=100, max_depth=5, criterion=gini ...................\n"
     ]
    },
    {
     "name": "stderr",
     "output_type": "stream",
     "text": [
      "[Parallel(n_jobs=10)]: Done  30 tasks      | elapsed:  1.8min\n"
     ]
    },
    {
     "name": "stdout",
     "output_type": "stream",
     "text": [
      "[CV]  n_estimators=50, max_depth=5, criterion=entropy, score=0.604817 -  17.5s\n",
      "[CV] n_estimators=200, max_depth=5, criterion=entropy ................\n",
      "[CV]  n_estimators=50, max_depth=5, criterion=entropy, score=0.607877 -  17.5s\n",
      "[CV] n_estimators=200, max_depth=5, criterion=entropy ................\n",
      "[CV]  n_estimators=50, max_depth=5, criterion=entropy, score=0.633111 -  17.9s\n",
      "[CV] n_estimators=200, max_depth=5, criterion=entropy ................\n",
      "[CV]  n_estimators=50, max_depth=5, criterion=entropy, score=0.666968 -  17.7s\n",
      "[CV] n_estimators=200, max_depth=5, criterion=entropy ................\n",
      "[CV]  n_estimators=50, max_depth=5, criterion=entropy, score=0.639002 -  18.4s\n",
      "[CV] n_estimators=200, max_depth=5, criterion=entropy ................\n",
      "[CV]  n_estimators=100, max_depth=5, criterion=gini, score=0.587934 -  33.9s\n",
      "[CV] n_estimators=200, max_depth=5, criterion=gini ...................\n",
      "[CV]  n_estimators=100, max_depth=5, criterion=gini, score=0.633111 -  34.2s\n",
      "[CV] n_estimators=200, max_depth=5, criterion=gini ...................\n",
      "[CV]  n_estimators=100, max_depth=5, criterion=gini, score=0.607877 -  34.2s\n",
      "[CV] n_estimators=200, max_depth=5, criterion=gini ...................\n"
     ]
    },
    {
     "name": "stderr",
     "output_type": "stream",
     "text": [
      "[Parallel(n_jobs=10)]: Done  37 out of  50 | elapsed:  2.3min remaining:   48.8s\n"
     ]
    },
    {
     "name": "stdout",
     "output_type": "stream",
     "text": [
      "[CV]  n_estimators=100, max_depth=5, criterion=gini, score=0.639002 -  34.5s\n",
      "[CV] n_estimators=200, max_depth=5, criterion=gini ...................\n",
      "[CV]  n_estimators=100, max_depth=5, criterion=gini, score=0.639228 -  34.2s\n",
      "[CV] n_estimators=200, max_depth=5, criterion=gini ...................\n",
      "[CV]  n_estimators=200, max_depth=5, criterion=entropy, score=0.602514 - 1.1min\n",
      "[CV]  n_estimators=200, max_depth=5, criterion=entropy, score=0.660964 - 1.1min\n",
      "[CV]  n_estimators=200, max_depth=5, criterion=entropy, score=0.604153 - 1.1min\n"
     ]
    },
    {
     "name": "stderr",
     "output_type": "stream",
     "text": [
      "[Parallel(n_jobs=10)]: Done  43 out of  50 | elapsed:  2.9min remaining:   28.5s\n"
     ]
    },
    {
     "name": "stdout",
     "output_type": "stream",
     "text": [
      "[CV]  n_estimators=200, max_depth=5, criterion=entropy, score=0.639002 - 1.1min\n",
      "[CV]  n_estimators=200, max_depth=5, criterion=entropy, score=0.635098 - 1.1min\n",
      "[CV]  n_estimators=200, max_depth=5, criterion=gini, score=0.602514 -  51.6s\n",
      "[CV]  n_estimators=200, max_depth=5, criterion=gini, score=0.604153 -  50.8s\n",
      "[CV]  n_estimators=200, max_depth=5, criterion=gini, score=0.660964 -  51.4s\n",
      "[CV]  n_estimators=200, max_depth=5, criterion=gini, score=0.639002 -  51.1s\n",
      "[CV]  n_estimators=200, max_depth=5, criterion=gini, score=0.635098 -  50.9s\n"
     ]
    },
    {
     "name": "stderr",
     "output_type": "stream",
     "text": [
      "[Parallel(n_jobs=10)]: Done  50 out of  50 | elapsed:  3.2min finished\n"
     ]
    }
   ],
   "source": [
    "X = dummies\n",
    "Y = results.converted\n",
    "# Split data\n",
    "X_dev, X_eval, Y_dev, Y_eval = train_test_split(X, Y, train_size=.7, random_state=23)\n",
    "\n",
    "# Initialize a random forest classifier\n",
    "rf = RandomForestClassifier(class_weight=\"balanced\")\n",
    "\n",
    "# Define a parameter grid to search over\n",
    "param_dist = {\"n_estimators\": range(50, 250, 50),\n",
    "              \"max_depth\": range(3, 7, 2), \n",
    "              'criterion': ['gini', 'entropy']}\n",
    "\n",
    "# Setup 5-fold stratified cross validation\n",
    "cross_validation = StratifiedKFold(Y_dev, n_folds=5)\n",
    "\n",
    "# Randomly sample 10 hyperparameter configurations from the grid above and perform 5-fold cross validation for each\n",
    "n_iter_search = 10\n",
    "clf = RandomizedSearchCV(rf, \n",
    "                         param_distributions=param_dist, \n",
    "                         n_iter=n_iter_search, \n",
    "                         cv=cross_validation, \n",
    "                         n_jobs=10, \n",
    "                         verbose=10)\n",
    "_ = clf.fit(X_dev, Y_dev)\n",
    "\n",
    "rf_best = clf.best_estimator_\n"
   ]
  },
  {
   "cell_type": "code",
   "execution_count": 20,
   "metadata": {},
   "outputs": [
    {
     "name": "stdout",
     "output_type": "stream",
     "text": [
      "Classification report for Random Forest\n",
      "             precision    recall  f1-score   support\n",
      "\n",
      "unconverted       0.98      0.64      0.78     93178\n",
      "  converted       0.02      0.47      0.05      1762\n",
      "\n",
      "avg / total       0.97      0.64      0.76     94940\n",
      "\n",
      "Area under ROC curve: 0.557\n"
     ]
    },
    {
     "data": {
      "image/png": "[encoded data removed]",
      "text/plain": [
       "<Figure size 432x288 with 1 Axes>"
      ]
     },
     "metadata": {},
     "output_type": "display_data"
    }
   ],
   "source": [
    "# Collect RF predictions\n",
    "rf_Ypredicted = rf_best.predict(X_eval)\n",
    "rf_roc_auc = roc_auc_score(Y_eval, rf_Ypredicted)\n",
    "\n",
    "print (\"Classification report for Random Forest\")\n",
    "print (classification_report(Y_eval, \n",
    "                            rf_Ypredicted,\n",
    "                            target_names=[\"unconverted\", \"converted\"]))\n",
    "print (\"Area under ROC curve: {:0.3f}\".format(rf_roc_auc))\n",
    "\n",
    "\n",
    "# Compute ROC curve and area under the curve for RF\n",
    "rf_probs = rf_best.predict_proba(X_eval)[:, 1]\n",
    "rf_fpr, rf_tpr, thresholds = roc_curve(Y_eval, rf_probs)\n",
    "\n",
    "plt.plot(rf_fpr, rf_tpr, lw=1, label='AUC = %0.2f'%(rf_roc_auc))\n",
    "\n",
    "plt.plot([0, 1], [0, 1], '--', color=(0.6, 0.6, 0.6), label='Luck')\n",
    "plt.xlim([-0.05, 1.05])\n",
    "plt.ylim([-0.05, 1.05])\n",
    "plt.xlabel('False Positive Rate', fontsize=15)\n",
    "plt.ylabel('True Positive Rate', fontsize=15)\n",
    "plt.title('ROC curve', fontsize=15)\n",
    "plt.legend(loc=\"best\", frameon = True).get_frame().set_edgecolor('black')\n",
    "plt.grid(True, linestyle = 'dotted')\n",
    "plt.show()"
   ]
  },
  {
   "cell_type": "code",
   "execution_count": 21,
   "metadata": {},
   "outputs": [
    {
     "data": {
      "text/plain": [
       "(array([ 0,  1,  2,  3,  4,  5,  6,  7,  8,  9, 10, 11, 12, 13, 14]),\n",
       " <a list of 15 Text xticklabel objects>)"
      ]
     },
     "execution_count": 21,
     "metadata": {},
     "output_type": "execute_result"
    },
    {
     "data": {
      "image/png": "[encoded data removed]",
      "text/plain": [
       "<Figure size 432x288 with 1 Axes>"
      ]
     },
     "metadata": {},
     "output_type": "display_data"
    }
   ],
   "source": [
    "# For random forest, look at most important features\n",
    "feat_labels = X.columns\n",
    "importances = rf_best.feature_importances_\n",
    "indices = np.argsort(importances)[::-1]\n",
    "\n",
    "sns.barplot(x=feat_labels[indices], y=importances[indices], color=sns.xkcd_rgb[\"pale red\"])\n",
    "plt.title('Feature Importances', fontsize=15)\n",
    "plt.ylabel('Relative Feature Importance', fontsize=12)\n",
    "plt.xticks(fontsize=12, rotation=70)"
   ]
  },
  {
   "cell_type": "code",
   "execution_count": 22,
   "metadata": {},
   "outputs": [
    {
     "name": "stdout",
     "output_type": "stream",
     "text": [
      "Fitting 5 folds for each of 10 candidates, totalling 50 fits\n",
      "[CV] n_estimators=100, max_depth=5, learning_rate=0.03 ...............\n",
      "[CV] n_estimators=100, max_depth=5, learning_rate=0.03 ...............\n",
      "[CV] n_estimators=100, max_depth=5, learning_rate=0.03 ...............\n",
      "[CV] n_estimators=100, max_depth=5, learning_rate=0.03 ...............\n",
      "[CV] n_estimators=100, max_depth=5, learning_rate=0.03 ...............\n",
      "[CV] n_estimators=150, max_depth=5, learning_rate=0.3 ................\n",
      "[CV] n_estimators=150, max_depth=5, learning_rate=0.3 ................\n",
      "[CV] n_estimators=150, max_depth=5, learning_rate=0.3 ................\n",
      "[CV] n_estimators=150, max_depth=5, learning_rate=0.3 ................\n",
      "[CV] n_estimators=150, max_depth=5, learning_rate=0.3 ................\n",
      "[CV]  n_estimators=100, max_depth=5, learning_rate=0.03, score=0.981763 - 2.6min\n",
      "[CV] n_estimators=200, max_depth=5, learning_rate=0.3 ................\n",
      "[CV]  n_estimators=100, max_depth=5, learning_rate=0.03, score=0.981763 - 2.6min\n",
      "[CV] n_estimators=200, max_depth=5, learning_rate=0.3 ................\n",
      "[CV]  n_estimators=100, max_depth=5, learning_rate=0.03, score=0.981763 - 2.6min\n",
      "[CV] n_estimators=200, max_depth=5, learning_rate=0.3 ................\n",
      "[CV]  n_estimators=100, max_depth=5, learning_rate=0.03, score=0.981741 - 2.6min\n",
      "[CV] n_estimators=200, max_depth=5, learning_rate=0.3 ................\n",
      "[CV]  n_estimators=100, max_depth=5, learning_rate=0.03, score=0.981763 - 2.6min\n",
      "[CV] n_estimators=200, max_depth=5, learning_rate=0.3 ................\n"
     ]
    },
    {
     "name": "stderr",
     "output_type": "stream",
     "text": [
      "[Parallel(n_jobs=10)]: Done   5 tasks      | elapsed:  2.6min\n"
     ]
    },
    {
     "name": "stdout",
     "output_type": "stream",
     "text": [
      "[CV]  n_estimators=150, max_depth=5, learning_rate=0.3, score=0.981763 - 3.8min\n",
      "[CV] n_estimators=150, max_depth=3, learning_rate=0.01 ...............\n",
      "[CV]  n_estimators=150, max_depth=5, learning_rate=0.3, score=0.981763 - 3.8min\n",
      "[CV] n_estimators=150, max_depth=3, learning_rate=0.01 ...............\n",
      "[CV]  n_estimators=150, max_depth=5, learning_rate=0.3, score=0.981763 - 3.9min\n",
      "[CV] n_estimators=150, max_depth=3, learning_rate=0.01 ...............\n",
      "[CV]  n_estimators=150, max_depth=5, learning_rate=0.3, score=0.981741 - 3.9min\n",
      "[CV] n_estimators=150, max_depth=3, learning_rate=0.01 ...............\n",
      "[CV]  n_estimators=150, max_depth=5, learning_rate=0.3, score=0.981763 - 4.0min\n",
      "[CV] n_estimators=150, max_depth=3, learning_rate=0.01 ...............\n",
      "[CV]  n_estimators=150, max_depth=3, learning_rate=0.01, score=0.981741 - 2.4min\n",
      "[CV] n_estimators=100, max_depth=3, learning_rate=0.01 ...............\n",
      "[CV]  n_estimators=150, max_depth=3, learning_rate=0.01, score=0.981763 - 2.4min\n",
      "[CV] n_estimators=100, max_depth=3, learning_rate=0.01 ...............\n",
      "[CV]  n_estimators=150, max_depth=3, learning_rate=0.01, score=0.981763 - 2.4min\n"
     ]
    },
    {
     "name": "stderr",
     "output_type": "stream",
     "text": [
      "[Parallel(n_jobs=10)]: Done  12 tasks      | elapsed:  6.3min\n"
     ]
    },
    {
     "name": "stdout",
     "output_type": "stream",
     "text": [
      "[CV] n_estimators=100, max_depth=3, learning_rate=0.01 ...............\n",
      "[CV]  n_estimators=150, max_depth=3, learning_rate=0.01, score=0.981763 - 2.4min\n",
      "[CV] n_estimators=100, max_depth=3, learning_rate=0.01 ...............\n",
      "[CV]  n_estimators=150, max_depth=3, learning_rate=0.01, score=0.981763 - 2.4min\n",
      "[CV] n_estimators=100, max_depth=3, learning_rate=0.01 ...............\n",
      "[CV]  n_estimators=200, max_depth=5, learning_rate=0.3, score=0.981763 - 5.1min\n",
      "[CV] n_estimators=100, max_depth=5, learning_rate=0.01 ...............\n",
      "[CV]  n_estimators=200, max_depth=5, learning_rate=0.3, score=0.981763 - 5.2min\n",
      "[CV] n_estimators=100, max_depth=5, learning_rate=0.01 ...............\n",
      "[CV]  n_estimators=200, max_depth=5, learning_rate=0.3, score=0.981763 - 5.2min\n",
      "[CV] n_estimators=100, max_depth=5, learning_rate=0.01 ...............\n",
      "[CV]  n_estimators=100, max_depth=3, learning_rate=0.01, score=0.981741 - 1.6min\n",
      "[CV] n_estimators=100, max_depth=5, learning_rate=0.01 ...............\n",
      "[CV]  n_estimators=200, max_depth=5, learning_rate=0.3, score=0.981763 - 5.2min\n",
      "[CV]  n_estimators=200, max_depth=5, learning_rate=0.3, score=0.981741 - 5.2min\n",
      "[CV] n_estimators=100, max_depth=5, learning_rate=0.01 ...............\n",
      "[CV] n_estimators=200, max_depth=3, learning_rate=0.3 ................\n"
     ]
    },
    {
     "name": "stderr",
     "output_type": "stream",
     "text": [
      "[Parallel(n_jobs=10)]: Done  21 tasks      | elapsed:  7.8min\n"
     ]
    },
    {
     "name": "stdout",
     "output_type": "stream",
     "text": [
      "[CV]  n_estimators=100, max_depth=3, learning_rate=0.01, score=0.981763 - 1.6min\n",
      "[CV] n_estimators=200, max_depth=3, learning_rate=0.3 ................\n",
      "[CV]  n_estimators=100, max_depth=3, learning_rate=0.01, score=0.981763 - 1.6min\n",
      "[CV] n_estimators=200, max_depth=3, learning_rate=0.3 ................\n",
      "[CV]  n_estimators=100, max_depth=3, learning_rate=0.01, score=0.981763 - 1.6min\n",
      "[CV] n_estimators=200, max_depth=3, learning_rate=0.3 ................\n",
      "[CV]  n_estimators=100, max_depth=3, learning_rate=0.01, score=0.981763 - 1.6min\n",
      "[CV] n_estimators=200, max_depth=3, learning_rate=0.3 ................\n",
      "[CV]  n_estimators=100, max_depth=5, learning_rate=0.01, score=0.981741 - 2.7min\n",
      "[CV] n_estimators=100, max_depth=5, learning_rate=0.1 ................\n",
      "[CV]  n_estimators=100, max_depth=5, learning_rate=0.01, score=0.981763 - 2.7min\n",
      "[CV] n_estimators=100, max_depth=5, learning_rate=0.1 ................\n",
      "[CV]  n_estimators=100, max_depth=5, learning_rate=0.01, score=0.981763 - 2.7min\n",
      "[CV] n_estimators=100, max_depth=5, learning_rate=0.1 ................\n",
      "[CV]  n_estimators=100, max_depth=5, learning_rate=0.01, score=0.981763 - 2.7min\n",
      "[CV] n_estimators=100, max_depth=5, learning_rate=0.1 ................\n",
      "[CV]  n_estimators=100, max_depth=5, learning_rate=0.01, score=0.981763 - 2.7min\n",
      "[CV] n_estimators=100, max_depth=5, learning_rate=0.1 ................\n"
     ]
    },
    {
     "name": "stderr",
     "output_type": "stream",
     "text": [
      "[Parallel(n_jobs=10)]: Done  30 tasks      | elapsed: 10.6min\n"
     ]
    },
    {
     "name": "stdout",
     "output_type": "stream",
     "text": [
      "[CV]  n_estimators=200, max_depth=3, learning_rate=0.3, score=0.981741 - 3.1min\n",
      "[CV] n_estimators=200, max_depth=3, learning_rate=0.1 ................\n",
      "[CV]  n_estimators=200, max_depth=3, learning_rate=0.3, score=0.981763 - 3.1min\n",
      "[CV] n_estimators=200, max_depth=3, learning_rate=0.1 ................\n",
      "[CV]  n_estimators=200, max_depth=3, learning_rate=0.3, score=0.981763 - 3.2min\n",
      "[CV] n_estimators=200, max_depth=3, learning_rate=0.1 ................\n",
      "[CV]  n_estimators=200, max_depth=3, learning_rate=0.3, score=0.981763 - 3.1min\n",
      "[CV] n_estimators=200, max_depth=3, learning_rate=0.1 ................\n",
      "[CV]  n_estimators=200, max_depth=3, learning_rate=0.3, score=0.981763 - 3.1min\n",
      "[CV] n_estimators=200, max_depth=3, learning_rate=0.1 ................\n",
      "[CV]  n_estimators=100, max_depth=5, learning_rate=0.1, score=0.981763 - 2.7min\n",
      "[CV] n_estimators=100, max_depth=3, learning_rate=0.1 ................\n",
      "[CV]  n_estimators=100, max_depth=5, learning_rate=0.1, score=0.981741 - 2.8min\n",
      "[CV] n_estimators=100, max_depth=3, learning_rate=0.1 ................\n"
     ]
    },
    {
     "name": "stderr",
     "output_type": "stream",
     "text": [
      "[Parallel(n_jobs=10)]: Done  37 out of  50 | elapsed: 13.2min remaining:  4.6min\n"
     ]
    },
    {
     "name": "stdout",
     "output_type": "stream",
     "text": [
      "[CV]  n_estimators=100, max_depth=5, learning_rate=0.1, score=0.981763 - 2.7min\n",
      "[CV] n_estimators=100, max_depth=3, learning_rate=0.1 ................\n",
      "[CV]  n_estimators=100, max_depth=5, learning_rate=0.1, score=0.981763 - 2.7min\n",
      "[CV] n_estimators=100, max_depth=3, learning_rate=0.1 ................\n",
      "[CV]  n_estimators=100, max_depth=5, learning_rate=0.1, score=0.981763 - 2.7min\n",
      "[CV] n_estimators=100, max_depth=3, learning_rate=0.1 ................\n",
      "[CV]  n_estimators=200, max_depth=3, learning_rate=0.1, score=0.981741 - 3.1min\n",
      "[CV]  n_estimators=200, max_depth=3, learning_rate=0.1, score=0.981763 - 3.2min\n",
      "[CV]  n_estimators=200, max_depth=3, learning_rate=0.1, score=0.981763 - 3.2min\n"
     ]
    },
    {
     "name": "stderr",
     "output_type": "stream",
     "text": [
      "[Parallel(n_jobs=10)]: Done  43 out of  50 | elapsed: 14.2min remaining:  2.3min\n"
     ]
    },
    {
     "name": "stdout",
     "output_type": "stream",
     "text": [
      "[CV]  n_estimators=200, max_depth=3, learning_rate=0.1, score=0.981763 - 3.2min\n",
      "[CV]  n_estimators=200, max_depth=3, learning_rate=0.1, score=0.981763 - 3.2min\n",
      "[CV]  n_estimators=100, max_depth=3, learning_rate=0.1, score=0.981741 - 1.4min\n",
      "[CV]  n_estimators=100, max_depth=3, learning_rate=0.1, score=0.981763 - 1.3min\n",
      "[CV]  n_estimators=100, max_depth=3, learning_rate=0.1, score=0.981763 - 1.3min\n",
      "[CV]  n_estimators=100, max_depth=3, learning_rate=0.1, score=0.981763 - 1.4min\n",
      "[CV]  n_estimators=100, max_depth=3, learning_rate=0.1, score=0.981763 - 1.3min\n"
     ]
    },
    {
     "name": "stderr",
     "output_type": "stream",
     "text": [
      "[Parallel(n_jobs=10)]: Done  50 out of  50 | elapsed: 14.6min finished\n"
     ]
    }
   ],
   "source": [
    "from sklearn.ensemble import GradientBoostingClassifier\n",
    "\n",
    "# Initialize a random forest classifier\n",
    "gbc = GradientBoostingClassifier()\n",
    "\n",
    "# Define a parameter grid to search over\n",
    "param_dist = {\"n_estimators\": range(50, 250, 50),\n",
    "              \"max_depth\": range(3, 7, 2), \n",
    "              'learning_rate': [.01, .03, .1, .3]}\n",
    "\n",
    "# Setup 5-fold stratified cross validation\n",
    "cross_validation = StratifiedKFold(Y_dev, n_folds=5)\n",
    "\n",
    "# Randomly sample 10 hyperparameter configurations from the grid above and perform 5-fold cross validation for each\n",
    "n_iter_search = 10\n",
    "clf = RandomizedSearchCV(gbc, \n",
    "                         param_distributions=param_dist, \n",
    "                         n_iter=n_iter_search, \n",
    "                         cv=cross_validation, \n",
    "                         n_jobs=10, \n",
    "                         verbose=10)\n",
    "_ = clf.fit(X_dev, Y_dev)\n",
    "\n",
    "gbc_best = clf.best_estimator_"
   ]
  },
  {
   "cell_type": "code",
   "execution_count": 23,
   "metadata": {},
   "outputs": [
    {
     "data": {
      "text/plain": [
       "Text(0,0.5,'Partial Dependence')"
      ]
     },
     "execution_count": 23,
     "metadata": {},
     "output_type": "execute_result"
    },
    {
     "data": {
      "image/png": "[encoded data removed]",
      "text/plain": [
       "<Figure size 432x288 with 1 Axes>"
      ]
     },
     "metadata": {},
     "output_type": "display_data"
    },
    {
     "data": {
      "image/png": "[encoded data removed]",
      "text/plain": [
       "<Figure size 432x288 with 1 Axes>"
      ]
     },
     "metadata": {},
     "output_type": "display_data"
    }
   ],
   "source": [
    "fig, ax = plot_partial_dependence(gbc_best, X, features=[8])\n",
    "plt.xlabel(\"Mobile User\", fontsize=15)\n",
    "plt.ylabel(\"Partial Dependence\", fontsize=15)\n",
    "\n",
    "fig, ax = plot_partial_dependence(gbc_best, X, features=[3])\n",
    "plt.xlabel(\"Price\", fontsize=15)\n",
    "plt.ylabel(\"Partial Dependence\", fontsize=15)\n"
   ]
  },
  {
   "cell_type": "code",
   "execution_count": null,
   "metadata": {},
   "outputs": [],
   "source": []
  }
 ],
 "metadata": {
  "kernelspec": {
   "display_name": "Python 3",
   "language": "python",
   "name": "python3"
  },
  "language_info": {
   "codemirror_mode": {
    "name": "ipython",
    "version": 3
   },
   "file_extension": ".py",
   "mimetype": "text/x-python",
   "name": "python",
   "nbconvert_exporter": "python",
   "pygments_lexer": "ipython3",
   "version": "3.6.5"
  }
 },
 "nbformat": 4,
 "nbformat_minor": 2
}
