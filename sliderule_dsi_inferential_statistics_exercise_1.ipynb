{
 "cells": [
  {
   "cell_type": "markdown",
   "metadata": {},
   "source": [
    "# What is the True Normal Human Body Temperature? \n",
    "\n",
    "#### Background\n",
    "\n",
    "The mean normal body temperature was held to be 37$^{\\circ}$C or 98.6$^{\\circ}$F for more than 120 years since it was first conceptualized and reported by Carl Wunderlich in a famous 1868 book. But, is this value statistically correct?"
   ]
  },
  {
   "cell_type": "markdown",
   "metadata": {},
   "source": [
    "<h3>Exercises</h3>\n",
    "\n",
    "<p>In this exercise, you will analyze a dataset of human body temperatures and employ the concepts of hypothesis testing, confidence intervals, and statistical significance.</p>\n",
    "\n",
    "<p>Answer the following questions <b>in this notebook below and submit to your Github account</b>.</p> \n",
    "\n",
    "<ol>\n",
    "<li>  Is the distribution of body temperatures normal? \n",
    "    <ul>\n",
    "    <li> Although this is not a requirement for the Central Limit Theorem to hold (read the introduction on Wikipedia's page about the CLT carefully: https://en.wikipedia.org/wiki/Central_limit_theorem), it gives us some peace of mind that the population may also be normally distributed if we assume that this sample is representative of the population.\n",
    "    <li> Think about the way you're going to check for the normality of the distribution. Graphical methods are usually used first, but there are also other ways: https://en.wikipedia.org/wiki/Normality_test\n",
    "    </ul>\n",
    "<li>  Is the sample size large? Are the observations independent?\n",
    "    <ul>\n",
    "    <li> Remember that this is a condition for the Central Limit Theorem, and hence the statistical tests we are using, to apply.\n",
    "    </ul>\n",
    "<li>  Is the true population mean really 98.6 degrees F?\n",
    "    <ul>\n",
    "    <li> First, try a bootstrap hypothesis test.\n",
    "    <li> Now, let's try frequentist statistical testing. Would you use a one-sample or two-sample test? Why?\n",
    "    <li> In this situation, is it appropriate to use the $t$ or $z$ statistic? \n",
    "    <li> Now try using the other test. How is the result be different? Why?\n",
    "    </ul>\n",
    "<li>  Draw a small sample of size 10 from the data and repeat both frequentist tests. \n",
    "    <ul>\n",
    "    <li> Which one is the correct one to use? \n",
    "    <li> What do you notice? What does this tell you about the difference in application of the $t$ and $z$ statistic?\n",
    "    </ul>\n",
    "<li>  At what temperature should we consider someone's temperature to be \"abnormal\"?\n",
    "    <ul>\n",
    "    <li> As in the previous example, try calculating everything using the boostrap approach, as well as the frequentist approach.\n",
    "    <li> Start by computing the margin of error and confidence interval. When calculating the confidence interval, keep in mind that you should use the appropriate formula for one draw, and not N draws.\n",
    "    </ul>\n",
    "<li>  Is there a significant difference between males and females in normal temperature?\n",
    "    <ul>\n",
    "    <li> What testing approach did you use and why?\n",
    "    <li> Write a story with your conclusion in the context of the original problem.\n",
    "    </ul>\n",
    "</ol>\n",
    "\n",
    "You can include written notes in notebook cells using Markdown: \n",
    "   - In the control panel at the top, choose Cell > Cell Type > Markdown\n",
    "   - Markdown syntax: http://nestacms.com/docs/creating-content/markdown-cheat-sheet\n",
    "\n",
    "#### Resources\n",
    "\n",
    "+ Information and data sources: http://www.amstat.org/publications/jse/datasets/normtemp.txt, http://www.amstat.org/publications/jse/jse_data_archive.htm\n",
    "+ Markdown syntax: http://nestacms.com/docs/creating-content/markdown-cheat-sheet\n",
    "\n",
    "****"
   ]
  },
  {
   "cell_type": "code",
   "execution_count": 8,
   "metadata": {},
   "outputs": [
    {
     "data": {
      "text/html": [
       "<div>\n",
       "<style scoped>\n",
       "    .dataframe tbody tr th:only-of-type {\n",
       "        vertical-align: middle;\n",
       "    }\n",
       "\n",
       "    .dataframe tbody tr th {\n",
       "        vertical-align: top;\n",
       "    }\n",
       "\n",
       "    .dataframe thead th {\n",
       "        text-align: right;\n",
       "    }\n",
       "</style>\n",
       "<table border=\"1\" class=\"dataframe\">\n",
       "  <thead>\n",
       "    <tr style=\"text-align: right;\">\n",
       "      <th></th>\n",
       "      <th>temperature</th>\n",
       "      <th>gender</th>\n",
       "      <th>heart_rate</th>\n",
       "    </tr>\n",
       "  </thead>\n",
       "  <tbody>\n",
       "    <tr>\n",
       "      <th>0</th>\n",
       "      <td>99.3</td>\n",
       "      <td>F</td>\n",
       "      <td>68.0</td>\n",
       "    </tr>\n",
       "    <tr>\n",
       "      <th>1</th>\n",
       "      <td>98.4</td>\n",
       "      <td>F</td>\n",
       "      <td>81.0</td>\n",
       "    </tr>\n",
       "    <tr>\n",
       "      <th>2</th>\n",
       "      <td>97.8</td>\n",
       "      <td>M</td>\n",
       "      <td>73.0</td>\n",
       "    </tr>\n",
       "    <tr>\n",
       "      <th>3</th>\n",
       "      <td>99.2</td>\n",
       "      <td>F</td>\n",
       "      <td>66.0</td>\n",
       "    </tr>\n",
       "    <tr>\n",
       "      <th>4</th>\n",
       "      <td>98.0</td>\n",
       "      <td>F</td>\n",
       "      <td>73.0</td>\n",
       "    </tr>\n",
       "  </tbody>\n",
       "</table>\n",
       "</div>"
      ],
      "text/plain": [
       "   temperature gender  heart_rate\n",
       "0         99.3      F        68.0\n",
       "1         98.4      F        81.0\n",
       "2         97.8      M        73.0\n",
       "3         99.2      F        66.0\n",
       "4         98.0      F        73.0"
      ]
     },
     "execution_count": 8,
     "metadata": {},
     "output_type": "execute_result"
    }
   ],
   "source": [
    "import pandas as pd\n",
    "import numpy as np\n",
    "import matplotlib.pyplot as plt\n",
    "from scipy.stats import norm\n",
    "import math\n",
    "import pylab\n",
    "import scipy.stats as stats\n",
    "\n",
    "df = pd.read_csv('data/human_body_temperature.csv')\n",
    "df.head()"
   ]
  },
  {
   "cell_type": "markdown",
   "metadata": {
    "collapsed": true
   },
   "source": [
    "## Q1. Is the distribution of body temperatures normal?.\n",
    "Visually check the distribution by ploting a histogram and use normal test to find the distribution."
   ]
  },
  {
   "cell_type": "code",
   "execution_count": 6,
   "metadata": {},
   "outputs": [
    {
     "name": "stderr",
     "output_type": "stream",
     "text": [
      "/home/titli/anaconda3/lib/python3.6/site-packages/matplotlib/axes/_axes.py:6462: UserWarning: The 'normed' kwarg is deprecated, and has been replaced by the 'density' kwarg.\n",
      "  warnings.warn(\"The 'normed' kwarg is deprecated, and has been \"\n"
     ]
    },
    {
     "data": {
      "text/plain": [
       "Text(0.5,1,'Distribution of Temperature \\n Mean:98.249 *** Std. Dev:0.7331 *** Mode:98.0')"
      ]
     },
     "execution_count": 6,
     "metadata": {},
     "output_type": "execute_result"
    },
    {
     "data": {
      "image/png": "[encoded data removed]",
      "text/plain": [
       "<Figure size 432x288 with 1 Axes>"
      ]
     },
     "metadata": {},
     "output_type": "display_data"
    }
   ],
   "source": [
    "temp_obs = df.temperature.sort_values()\n",
    "bin_values = np.arange(start=temp_obs.min(), stop=temp_obs.max(), step=.05)\n",
    "mu, std = temp_obs.mean(),temp_obs.std()\n",
    "p=norm.pdf(temp_obs,mu,std)\n",
    "plt.hist(temp_obs,bins=bin_values,normed=True,stacked=True)\n",
    "plt.plot(temp_obs, p)\n",
    "plt.xlabel('Temperature')\n",
    "#xticks = np.arange(96.0,101.0,0.1)\n",
    "xticks = plt.xticks(np.arange(95.75,101.25,0.25),rotation=90)\n",
    "plt.title(('Distribution of Temperature \\n Mean:'+('{:3.6}'.format(str(mu)))+\n",
    "           ' *** Std. Dev:'+('{:1.6}'.format(str(std)))+\n",
    "          ' *** Mode:'+('{:3.6}'.format(str(temp_obs.mode().values[0])))))"
   ]
  },
  {
   "cell_type": "code",
   "execution_count": 23,
   "metadata": {},
   "outputs": [
    {
     "name": "stdout",
     "output_type": "stream",
     "text": [
      "The distribution is normal as p > 0.05\n"
     ]
    }
   ],
   "source": [
    "k2,p=stats.normaltest(temp_obs)\n",
    "if p < 0.05:\n",
    "    print(\"The distribution is not normal as p < 0.05\")\n",
    "else:\n",
    "    print(\"The distribution is normal as p > 0.05\")"
   ]
  },
  {
   "cell_type": "markdown",
   "metadata": {},
   "source": [
    "## Q2. Is the sample size large. Are the observations independent?.\n",
    "Central Limit Theorem (CLT) is used. If sample size > 30 then it is sufficient for CLT. Samples are independent because they are taken from different people."
   ]
  },
  {
   "cell_type": "code",
   "execution_count": 10,
   "metadata": {},
   "outputs": [
    {
     "data": {
      "text/html": [
       "<div>\n",
       "<style scoped>\n",
       "    .dataframe tbody tr th:only-of-type {\n",
       "        vertical-align: middle;\n",
       "    }\n",
       "\n",
       "    .dataframe tbody tr th {\n",
       "        vertical-align: top;\n",
       "    }\n",
       "\n",
       "    .dataframe thead th {\n",
       "        text-align: right;\n",
       "    }\n",
       "</style>\n",
       "<table border=\"1\" class=\"dataframe\">\n",
       "  <thead>\n",
       "    <tr style=\"text-align: right;\">\n",
       "      <th></th>\n",
       "      <th>temperature</th>\n",
       "      <th>gender</th>\n",
       "      <th>heart_rate</th>\n",
       "    </tr>\n",
       "  </thead>\n",
       "  <tbody>\n",
       "  </tbody>\n",
       "</table>\n",
       "</div>"
      ],
      "text/plain": [
       "Empty DataFrame\n",
       "Columns: [temperature, gender, heart_rate]\n",
       "Index: []"
      ]
     },
     "execution_count": 10,
     "metadata": {},
     "output_type": "execute_result"
    }
   ],
   "source": [
    "df[df.temperature.isnull()]"
   ]
  },
  {
   "cell_type": "code",
   "execution_count": 11,
   "metadata": {},
   "outputs": [
    {
     "name": "stdout",
     "output_type": "stream",
     "text": [
      "The sample size is 130 and is greater than 30\n"
     ]
    }
   ],
   "source": [
    "print('The sample size is {:3.6} '.format(str(len(df)))+'and is greater than 30')"
   ]
  },
  {
   "cell_type": "markdown",
   "metadata": {},
   "source": [
    "## Q3. Is the true population mean really 98.6 degrees F? \n",
    "The null hypothesis states the following.\n",
    "<br>\n",
    "Ho: True Population Mean is 98.6 F \n",
    "<br>\n",
    "H1: True Population Mean is not 98.6 F\n",
    "### One sample bootstrap hypothesis test "
   ]
  },
  {
   "cell_type": "code",
   "execution_count": 20,
   "metadata": {},
   "outputs": [
    {
     "name": "stdout",
     "output_type": "stream",
     "text": [
      "One sample bootstrap hypothesis test p value is 0.0\n",
      "Ho must be rejected. True Population Mean is NOT 98.6 F\n"
     ]
    }
   ],
   "source": [
    "def bootstrap_replicate_1d(data, func):\n",
    "    return func(np.random.choice(data, size=len(data)))\n",
    "def draw_bs_reps(data, func, size=1):\n",
    "    \"\"\"Draw bootstrap replicates.\"\"\"\n",
    "\n",
    "    # Initialize array of replicates: bs_replicates\n",
    "    bs_replicates = np.empty(size)\n",
    "\n",
    "    # Generate replicates\n",
    "    for i in range(size):\n",
    "        bs_replicates[i] = bootstrap_replicate_1d(data, func)\n",
    "\n",
    "    return bs_replicates\n",
    "# Make an array of translated temperature: translated_T\n",
    "translated_T = df.temperature - np.mean(df.temperature) + 98.6\n",
    "# Take bootstrap replicates : bs_replicates_T\n",
    "bs_replicates_T = draw_bs_reps(translated_T, np.mean, 10000)\n",
    "\n",
    "# Compute fraction of replicates that are less than the observed Frog B force: p\n",
    "p = np.sum(bs_replicates_T <= np.mean(df.temperature)) / 10000\n",
    "# Print the p-value\n",
    "print('One sample bootstrap hypothesis test p value is {:.4}'.format(p))\n",
    "if p<0.05:\n",
    "    print('Ho must be rejected. True Population Mean is NOT 98.6 F')\n",
    "else:\n",
    "    print('Ho is True. True Population mean is 98.6 F.')\n"
   ]
  },
  {
   "cell_type": "code",
   "execution_count": 43,
   "metadata": {},
   "outputs": [
    {
     "name": "stdout",
     "output_type": "stream",
     "text": [
      "Sample mean is 98.25F which is -5.45 standard error units below 98.6 F, p value is 4.9e-08\n",
      "Ho must be rejected. True Population Mean is NOT 98.6 F\n"
     ]
    }
   ],
   "source": [
    "## Calculate t- value  (t-value= signal/noise)\n",
    "median=df.temperature.median()\n",
    "sample_size=df.temperature.size\n",
    "\n",
    "signal=mu-98.6\n",
    "noise=std/(sample_size**0.5)\n",
    "z_val=signal/noise\n",
    "\n",
    "# Probability that True Mean is within 5.45 std of 98.25 F\n",
    "P_value=stats.norm.cdf(z_val) * 2 \n",
    "P_value=stats.norm.sf(abs(z_val))*2 # two sided formulae\n",
    "print ('Sample mean is {:.4}F'.format(mu)+' which is {:.3} standard error units below 98.6 F,' \\\n",
    "      .format(z_val)+' p value is {:.3}'.format(P_value))\n",
    "if P_value<0.05:\n",
    "    print('Ho must be rejected. True Population Mean is NOT 98.6 F')\n",
    "else:\n",
    "    print('Ho is True. True Population mean is 98.6 F.')"
   ]
  },
  {
   "cell_type": "code",
   "execution_count": 59,
   "metadata": {},
   "outputs": [
    {
     "name": "stdout",
     "output_type": "stream",
     "text": [
      "Using z-statistic with 95% confindence level, range of true mean is 98.38F to 98.12F.\n",
      "Using t-statistic with 95% confindence level, range of true mean is 98.38F to 98.12F.\n"
     ]
    }
   ],
   "source": [
    "#Comparing Z-statistic and t-statistic\n",
    "t_val=signal/noise       # n=130, df=129\n",
    "#Calculate critical t-value\n",
    "# n=130, p<0.05, 2-tail\n",
    "critical_t=stats.t.ppf(1-0.025, 129)\n",
    "moe_t=critical_t*std/np.sqrt(130)\n",
    "#Calculate critical z-value\n",
    "# CI=95%, 2-tail= CI=97.5%, 1-tail\n",
    "critical_z=stats.norm.ppf(0.975)\n",
    "moe_z=std*critical_z/np.sqrt(130)\n",
    "# Range of true mean using z-statistic with 95% confidence level\n",
    "mu_z1=mu+moe_z\n",
    "mu_z2=mu-moe_z\n",
    "\n",
    "# Range of true mean using t- statistic with 95% confidence level, n=130 so degrees of freedom=129\n",
    "mu_t1=mu+moe_t\n",
    "mu_t2=mu-moe_t\n",
    "\n",
    "print('Using z-statistic with 95% confindence level, range of true mean is {:.4}F ' \\\n",
    "      .format(mu_z1)+'to {:.4}F.'.format(mu_z2))\n",
    "print('Using t-statistic with 95% confindence level, range of true mean is {:.4}F ' \\\n",
    "      .format(mu_t1)+'to {:.4}F.'.format(mu_t2))"
   ]
  },
  {
   "cell_type": "markdown",
   "metadata": {},
   "source": [
    "One sample test is appropriate to use since a set of temperatures will be tested against the population mean of 98.6 F. Z-statistic is appropriate to use in this case since sample size>30. If calculated p_value is < assumed p_value of 0.05, then Ho will be rejected."
   ]
  },
  {
   "cell_type": "markdown",
   "metadata": {},
   "source": [
    "## Q5. At what temperature should we consider someone's temperature to be \"abnormal\"? \n",
    "#Start by computing the margin of error and confidence interval. "
   ]
  },
  {
   "cell_type": "code",
   "execution_count": 66,
   "metadata": {},
   "outputs": [
    {
     "name": "stdout",
     "output_type": "stream",
     "text": [
      "Normal temperature range is  98.12  F to  98.38  F. Outside this range is ABNORMAL!\n"
     ]
    },
    {
     "data": {
      "text/plain": [
       "Text(0.5,1,'Normal Human Body Temperature')"
      ]
     },
     "execution_count": 66,
     "metadata": {},
     "output_type": "execute_result"
    },
    {
     "data": {
      "image/png": "[encoded data removed]",
      "text/plain": [
       "<Figure size 432x288 with 1 Axes>"
      ]
     },
     "metadata": {},
     "output_type": "display_data"
    }
   ],
   "source": [
    "moe_z = 1.96 * std/ np.sqrt(130)\n",
    "ci = mu + np.array([-1, 1]) * moe_z\n",
    "print(\"Normal temperature range is \", round(mu_z2,2), \" F to \", round(mu_z1,2), \" F. Outside this range is ABNORMAL!\")\n",
    "\n",
    "x = np.linspace(96,101,130)\n",
    "y = stats.norm.pdf(x, loc=mu, scale=std)    \n",
    "pylab.plot(x,y)\n",
    "\n",
    "pylab.xlabel('Temperature')\n",
    "pylab.ylabel('PDF')\n",
    "pylab.vlines(mean_t2,0, 0.6)\n",
    "pylab.vlines(mean_t1,0,0.6,color='red')\n",
    "\n",
    "pylab.legend(['sample distribution','98.12 F', '98.38 F'])\n",
    "pylab.title('Normal Human Body Temperature')"
   ]
  },
  {
   "cell_type": "markdown",
   "metadata": {},
   "source": [
    "## Q6. Is there a significant difference between males and females in normal temperature? \n"
   ]
  },
  {
   "cell_type": "code",
   "execution_count": 77,
   "metadata": {},
   "outputs": [
    {
     "name": "stdout",
     "output_type": "stream",
     "text": [
      "Ho that mean of female and male temperature are the same will be rejected.\n",
      "There is significance difference between male and female body temperatures.\n"
     ]
    }
   ],
   "source": [
    "##Male Temperatures\n",
    "men=df[df.gender=='M']\n",
    "men_mean_temp=men.temperature.mean()\n",
    "men_std_temp=men.temperature.std()\n",
    "##Female Temperatures\n",
    "female=df[df.gender=='F']\n",
    "female_mean_temp=female.temperature.mean()\n",
    "female_std_temp=female.temperature.std()\n",
    "## Diference in mean of Male and Female temperatures\n",
    "mean_diff_gender=female_mean_temp - men_mean_temp\n",
    "## Standard Error Calculation\n",
    "SE=((men_std_temp**2)/65 + (female_std_temp**2)/65)**0.5\n",
    "F1=female_std_temp**2/65\n",
    "M1=men_std_temp**2/65\n",
    "\n",
    "DF=((F1+M1)**2)/(((F1**2)/64)+((M1**2)/64))\n",
    "\n",
    "## Use 0.05 Significance level in two sample t-test\n",
    "t_val=((female_mean_temp-men_mean_temp)-0)/SE\n",
    "p_value = stats.t.sf(np.abs(2.29), 128)*2  # two-sided pvalue = Prob(abs(t)>tt)\n",
    "\n",
    "if p_value<0.05:\n",
    "    print('Ho that mean of female and male temperature are the same will be rejected.')\n",
    "    print('There is significance difference between male and female body temperatures.')\n",
    "else: \n",
    "    print('Ho: Mean of female and male temperature are the same IS TRUE!')"
   ]
  },
  {
   "cell_type": "code",
   "execution_count": 80,
   "metadata": {},
   "outputs": [
    {
     "data": {
      "image/png": "[encoded data removed]",
      "text/plain": [
       "<Figure size 432x288 with 1 Axes>"
      ]
     },
     "metadata": {},
     "output_type": "display_data"
    }
   ],
   "source": [
    "##Normal Distribution graph of Male and Female Temperatures\n",
    "x = np.linspace(96,101,130)\n",
    "y1 = stats.norm.pdf(x, loc=men_mean_temp, scale=men_std_temp)    \n",
    "pylab.plot(x,y1)\n",
    "\n",
    "y2 = stats.norm.pdf(x, loc=female_mean_temp, scale=female_std_temp)    \n",
    "pylab.plot(x,y2)\n",
    "pylab.xlabel('Temperature')\n",
    "pylab.ylabel('PDF')\n",
    "pylab.vlines(men_mean_temp,0, 0.6, color='blue')\n",
    "pylab.vlines(female_mean_temp,0,0.6, color='red')\n",
    "pylab.legend(['M', 'F', '98.10 F', '98.39 F'])\n",
    "pylab.title('Male and Female Body Temperature')\n",
    "pylab.show()"
   ]
  },
  {
   "cell_type": "code",
   "execution_count": null,
   "metadata": {},
   "outputs": [],
   "source": []
  }
 ],
 "metadata": {
  "kernelspec": {
   "display_name": "Python 3",
   "language": "python",
   "name": "python3"
  },
  "language_info": {
   "codemirror_mode": {
    "name": "ipython",
    "version": 3
   },
   "file_extension": ".py",
   "mimetype": "text/x-python",
   "name": "python",
   "nbconvert_exporter": "python",
   "pygments_lexer": "ipython3",
   "version": "3.6.5"
  }
 },
 "nbformat": 4,
 "nbformat_minor": 1
}
