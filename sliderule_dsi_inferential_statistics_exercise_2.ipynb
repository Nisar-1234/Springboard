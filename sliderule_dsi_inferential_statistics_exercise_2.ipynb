{
 "cells": [
  {
   "cell_type": "markdown",
   "metadata": {},
   "source": [
    "# Examining Racial Discrimination in the US Job Market\n",
    "\n",
    "### Background\n",
    "Racial discrimination continues to be pervasive in cultures throughout the world. Researchers examined the level of racial discrimination in the United States labor market by randomly assigning identical résumés to black-sounding or white-sounding names and observing the impact on requests for interviews from employers.\n",
    "\n",
    "### Data\n",
    "In the dataset provided, each row represents a resume. The 'race' column has two values, 'b' and 'w', indicating black-sounding and white-sounding. The column 'call' has two values, 1 and 0, indicating whether the resume received a call from employers or not.\n",
    "\n",
    "Note that the 'b' and 'w' values in race are assigned randomly to the resumes when presented to the employer."
   ]
  },
  {
   "cell_type": "markdown",
   "metadata": {},
   "source": [
    "<div class=\"span5 alert alert-info\">\n",
    "### Exercises\n",
    "You will perform a statistical analysis to establish whether race has a significant impact on the rate of callbacks for resumes.\n",
    "\n",
    "Answer the following questions **in this notebook below and submit to your Github account**. \n",
    "\n",
    "   1. What test is appropriate for this problem? Does CLT apply?\n",
    "   2. What are the null and alternate hypotheses?\n",
    "   3. Compute margin of error, confidence interval, and p-value. Try using both the bootstrapping and the frequentist statistical approaches.\n",
    "   4. Write a story describing the statistical significance in the context or the original problem.\n",
    "   5. Does your analysis mean that race/name is the most important factor in callback success? Why or why not? If not, how would you amend your analysis?\n",
    "\n",
    "You can include written notes in notebook cells using Markdown: \n",
    "   - In the control panel at the top, choose Cell > Cell Type > Markdown\n",
    "   - Markdown syntax: http://nestacms.com/docs/creating-content/markdown-cheat-sheet\n",
    "\n",
    "\n",
    "#### Resources\n",
    "+ Experiment information and data source: http://www.povertyactionlab.org/evaluation/discrimination-job-market-united-states\n",
    "+ Scipy statistical methods: http://docs.scipy.org/doc/scipy/reference/stats.html \n",
    "+ Markdown syntax: http://nestacms.com/docs/creating-content/markdown-cheat-sheet\n",
    "+ Formulas for the Bernoulli distribution: https://en.wikipedia.org/wiki/Bernoulli_distribution\n",
    "</div>\n",
    "****"
   ]
  },
  {
   "cell_type": "code",
   "execution_count": 2,
   "metadata": {},
   "outputs": [],
   "source": [
    "import pandas as pd\n",
    "import numpy as np\n",
    "from scipy import stats\n",
    "import matplotlib.pyplot as plt\n",
    "from statsmodels.distributions.empirical_distribution import ECDF "
   ]
  },
  {
   "cell_type": "code",
   "execution_count": 3,
   "metadata": {},
   "outputs": [],
   "source": [
    "data = pd.io.stata.read_stata('data/us_job_market_discrimination.dta')"
   ]
  },
  {
   "cell_type": "code",
   "execution_count": 4,
   "metadata": {},
   "outputs": [
    {
     "name": "stdout",
     "output_type": "stream",
     "text": [
      "Percentage of call backs for black people is 6.45 % percentage of call backs for white people is 9.65 %\n",
      "Variance in percentage of call backs for black people is 2.48e-05  variance in percentage of call backs for white people is 3.58e-05 \n",
      "Variance in sample distribution is 6.06e-05  and standard deviation in sample distribution is 0.00778 \n"
     ]
    }
   ],
   "source": [
    "# number of callbacks for black-sounding names\n",
    "per_b_call=(sum(data[data.race=='b'].call)/data[data.race=='b'].race.size)*100\n",
    "# number of callbacks for white-sounding names\n",
    "per_w_call=(sum(data[data.race=='w'].call)/data[data.race=='w'].race.size)*100\n",
    "print('Percentage of call backs for black people is {:.3} %'.format(per_b_call)+ \\\n",
    "      ' percentage of call backs for white people is {:.3} %'.format(per_w_call))\n",
    "\n",
    "P1=per_b_call/100\n",
    "var_b=(P1*(1-P1)/data[data.race=='b'].race.size)\n",
    "P2=per_w_call/100\n",
    "var_w=(P2*(1-P2)/data[data.race=='w'].race.size)\n",
    "\n",
    "print('Variance in percentage of call backs for black people is {:.3} '.format(var_b)+ \\\n",
    "      ' variance in percentage of call backs for white people is {:.3} '.format(var_w))\n",
    "\n",
    "## Sampling Distribution P1-P2 variance\n",
    "var_b_w= var_b + var_w\n",
    "std_b_w=np.sqrt(var_b_w)\n",
    "\n",
    "print('Variance in sample distribution is {:.3} '.format(var_b_w)+ \\\n",
    "      ' and standard deviation in sample distribution is {:.3} '.format(std_b_w))"
   ]
  },
  {
   "cell_type": "code",
   "execution_count": 5,
   "metadata": {},
   "outputs": [
    {
     "data": {
      "text/html": [
       "<div>\n",
       "<style scoped>\n",
       "    .dataframe tbody tr th:only-of-type {\n",
       "        vertical-align: middle;\n",
       "    }\n",
       "\n",
       "    .dataframe tbody tr th {\n",
       "        vertical-align: top;\n",
       "    }\n",
       "\n",
       "    .dataframe thead th {\n",
       "        text-align: right;\n",
       "    }\n",
       "</style>\n",
       "<table border=\"1\" class=\"dataframe\">\n",
       "  <thead>\n",
       "    <tr style=\"text-align: right;\">\n",
       "      <th></th>\n",
       "      <th>id</th>\n",
       "      <th>ad</th>\n",
       "      <th>education</th>\n",
       "      <th>ofjobs</th>\n",
       "      <th>yearsexp</th>\n",
       "      <th>honors</th>\n",
       "      <th>volunteer</th>\n",
       "      <th>military</th>\n",
       "      <th>empholes</th>\n",
       "      <th>occupspecific</th>\n",
       "      <th>...</th>\n",
       "      <th>compreq</th>\n",
       "      <th>orgreq</th>\n",
       "      <th>manuf</th>\n",
       "      <th>transcom</th>\n",
       "      <th>bankreal</th>\n",
       "      <th>trade</th>\n",
       "      <th>busservice</th>\n",
       "      <th>othservice</th>\n",
       "      <th>missind</th>\n",
       "      <th>ownership</th>\n",
       "    </tr>\n",
       "  </thead>\n",
       "  <tbody>\n",
       "    <tr>\n",
       "      <th>0</th>\n",
       "      <td>b</td>\n",
       "      <td>1</td>\n",
       "      <td>4</td>\n",
       "      <td>2</td>\n",
       "      <td>6</td>\n",
       "      <td>0</td>\n",
       "      <td>0</td>\n",
       "      <td>0</td>\n",
       "      <td>1</td>\n",
       "      <td>17</td>\n",
       "      <td>...</td>\n",
       "      <td>1.0</td>\n",
       "      <td>0.0</td>\n",
       "      <td>1.0</td>\n",
       "      <td>0.0</td>\n",
       "      <td>0.0</td>\n",
       "      <td>0.0</td>\n",
       "      <td>0.0</td>\n",
       "      <td>0.0</td>\n",
       "      <td>0.0</td>\n",
       "      <td></td>\n",
       "    </tr>\n",
       "    <tr>\n",
       "      <th>1</th>\n",
       "      <td>b</td>\n",
       "      <td>1</td>\n",
       "      <td>3</td>\n",
       "      <td>3</td>\n",
       "      <td>6</td>\n",
       "      <td>0</td>\n",
       "      <td>1</td>\n",
       "      <td>1</td>\n",
       "      <td>0</td>\n",
       "      <td>316</td>\n",
       "      <td>...</td>\n",
       "      <td>1.0</td>\n",
       "      <td>0.0</td>\n",
       "      <td>1.0</td>\n",
       "      <td>0.0</td>\n",
       "      <td>0.0</td>\n",
       "      <td>0.0</td>\n",
       "      <td>0.0</td>\n",
       "      <td>0.0</td>\n",
       "      <td>0.0</td>\n",
       "      <td></td>\n",
       "    </tr>\n",
       "    <tr>\n",
       "      <th>2</th>\n",
       "      <td>b</td>\n",
       "      <td>1</td>\n",
       "      <td>4</td>\n",
       "      <td>1</td>\n",
       "      <td>6</td>\n",
       "      <td>0</td>\n",
       "      <td>0</td>\n",
       "      <td>0</td>\n",
       "      <td>0</td>\n",
       "      <td>19</td>\n",
       "      <td>...</td>\n",
       "      <td>1.0</td>\n",
       "      <td>0.0</td>\n",
       "      <td>1.0</td>\n",
       "      <td>0.0</td>\n",
       "      <td>0.0</td>\n",
       "      <td>0.0</td>\n",
       "      <td>0.0</td>\n",
       "      <td>0.0</td>\n",
       "      <td>0.0</td>\n",
       "      <td></td>\n",
       "    </tr>\n",
       "    <tr>\n",
       "      <th>3</th>\n",
       "      <td>b</td>\n",
       "      <td>1</td>\n",
       "      <td>3</td>\n",
       "      <td>4</td>\n",
       "      <td>6</td>\n",
       "      <td>0</td>\n",
       "      <td>1</td>\n",
       "      <td>0</td>\n",
       "      <td>1</td>\n",
       "      <td>313</td>\n",
       "      <td>...</td>\n",
       "      <td>1.0</td>\n",
       "      <td>0.0</td>\n",
       "      <td>1.0</td>\n",
       "      <td>0.0</td>\n",
       "      <td>0.0</td>\n",
       "      <td>0.0</td>\n",
       "      <td>0.0</td>\n",
       "      <td>0.0</td>\n",
       "      <td>0.0</td>\n",
       "      <td></td>\n",
       "    </tr>\n",
       "    <tr>\n",
       "      <th>4</th>\n",
       "      <td>b</td>\n",
       "      <td>1</td>\n",
       "      <td>3</td>\n",
       "      <td>3</td>\n",
       "      <td>22</td>\n",
       "      <td>0</td>\n",
       "      <td>0</td>\n",
       "      <td>0</td>\n",
       "      <td>0</td>\n",
       "      <td>313</td>\n",
       "      <td>...</td>\n",
       "      <td>1.0</td>\n",
       "      <td>1.0</td>\n",
       "      <td>0.0</td>\n",
       "      <td>0.0</td>\n",
       "      <td>0.0</td>\n",
       "      <td>0.0</td>\n",
       "      <td>0.0</td>\n",
       "      <td>1.0</td>\n",
       "      <td>0.0</td>\n",
       "      <td>Nonprofit</td>\n",
       "    </tr>\n",
       "  </tbody>\n",
       "</table>\n",
       "<p>5 rows × 65 columns</p>\n",
       "</div>"
      ],
      "text/plain": [
       "  id ad  education  ofjobs  yearsexp  honors  volunteer  military  empholes  \\\n",
       "0  b  1          4       2         6       0          0         0         1   \n",
       "1  b  1          3       3         6       0          1         1         0   \n",
       "2  b  1          4       1         6       0          0         0         0   \n",
       "3  b  1          3       4         6       0          1         0         1   \n",
       "4  b  1          3       3        22       0          0         0         0   \n",
       "\n",
       "   occupspecific    ...      compreq  orgreq  manuf  transcom  bankreal trade  \\\n",
       "0             17    ...          1.0     0.0    1.0       0.0       0.0   0.0   \n",
       "1            316    ...          1.0     0.0    1.0       0.0       0.0   0.0   \n",
       "2             19    ...          1.0     0.0    1.0       0.0       0.0   0.0   \n",
       "3            313    ...          1.0     0.0    1.0       0.0       0.0   0.0   \n",
       "4            313    ...          1.0     1.0    0.0       0.0       0.0   0.0   \n",
       "\n",
       "  busservice othservice  missind  ownership  \n",
       "0        0.0        0.0      0.0             \n",
       "1        0.0        0.0      0.0             \n",
       "2        0.0        0.0      0.0             \n",
       "3        0.0        0.0      0.0             \n",
       "4        0.0        1.0      0.0  Nonprofit  \n",
       "\n",
       "[5 rows x 65 columns]"
      ]
     },
     "execution_count": 5,
     "metadata": {},
     "output_type": "execute_result"
    }
   ],
   "source": [
    "data.head()"
   ]
  },
  {
   "cell_type": "markdown",
   "metadata": {
    "collapsed": true
   },
   "source": [
    "<div class=\"span5 alert alert-success\">\n",
    "<p>Your answers to Q1 and Q2 here</p>\n",
    "</div>"
   ]
  },
  {
   "cell_type": "markdown",
   "metadata": {},
   "source": [
    "### Q1. What test is appropriate for this problem? Does CLT apply?\n",
    "This is a binary response type of problem (1,0) with discrete variable and a Bernoulli distribution or binomial distribution. However, testing the difference between the \"percentage called back\" for each race will follow a normal distribution  and hence CLT can be applied. The requirements for CLT is that the samples must be randomly drawn, and be representative of the population. Conversely since sample size **n** is > 30, z-statistics is more appropriate that t-statistics."
   ]
  },
  {
   "cell_type": "markdown",
   "metadata": {},
   "source": [
    "A two-sample z-test can be used to test the difference between two population proportions\n",
    "p_1 and p_2 when a sample is randomly selected from each population. The test statistic\n",
    "is\n",
    "<br>\n",
    "z = $\\frac{(\\hat p_1 - \\hat p_2) - (p_1 - p_2)}{\\sqrt{\\bar{p}\\bar{q}(\\frac{1}{n_1}+\\frac{1}{n_2})}}$\n",
    "\n",
    "Where:\n",
    "\n",
    "* $\\bar{p} = \\frac{x_1 + x_2}{n_1 + n_2}$\n",
    "\n",
    "* $\\bar{q} = 1 - \\bar{p}$\n",
    "\n",
    "* $\\hat p_1 = \\frac{x_1}{n_1}$\n",
    "\n",
    "* $\\hat p_2 = \\frac{x_2}{n_2}$\n",
    "\n",
    "* $x_1$, $x_2$ : number of success in each sample.\n",
    "\n",
    "* $p_1$, $p_2$:Population proportions.\n",
    "\n",
    "* $\\hat p_1$, $\\hat p_2$  :Sample proportions of successes."
   ]
  },
  {
   "cell_type": "markdown",
   "metadata": {},
   "source": [
    "### Q2. What are the null and alternate hypotheses?\n",
    "Ho: There is no difference between black and white resumes.\n",
    "<br>\n",
    "H1: There is difference between black and white resumes.\n",
    "<br>\n",
    "Alternatively,\n",
    "<br>\n",
    "Ho: There is no significant difference between \"percentage called back\" for black and white resumes.\n",
    "<br>\n",
    "H1:There is significant difference between \"percentage called back\" for black and white resumes.\n",
    "<br>\n",
    "Since the sample size is > 30 z-statistic is appropriate."
   ]
  },
  {
   "cell_type": "code",
   "execution_count": 6,
   "metadata": {},
   "outputs": [
    {
     "data": {
      "text/plain": [
       "157.0"
      ]
     },
     "execution_count": 6,
     "metadata": {},
     "output_type": "execute_result"
    }
   ],
   "source": [
    "# number of callbacks for black-sounding names\n",
    "tot_b_called=sum(data[data.race=='b'].call)\n",
    "tot_b_called"
   ]
  },
  {
   "cell_type": "code",
   "execution_count": 7,
   "metadata": {},
   "outputs": [],
   "source": [
    "w = data[data.race=='w']\n",
    "b = data[data.race=='b']"
   ]
  },
  {
   "cell_type": "markdown",
   "metadata": {},
   "source": [
    "### Q3. Compute margin of error, confidence interval, and p-value. Try using both the bootstrapping and the frequentist statistical approaches."
   ]
  },
  {
   "cell_type": "markdown",
   "metadata": {},
   "source": [
    "#### Bootstapping approach of confidence interval"
   ]
  },
  {
   "cell_type": "code",
   "execution_count": 8,
   "metadata": {},
   "outputs": [
    {
     "name": "stdout",
     "output_type": "stream",
     "text": [
      "For black call backs the sem is: 0.00498\n",
      " and standard deviation of bootstrap replicates is: 0.00499\n",
      "95% confidence interval = [0.05200241 0.0688073 ] of black called back\n",
      "For white call backs the sem is: 0.00598\n",
      " and standard deviation of bootstrap replicates is: 0.00431\n",
      "95% confidence interval = [0.0774425  0.09634244] of white called back\n"
     ]
    }
   ],
   "source": [
    "def bootstrap_replicate_1d(data, func):\n",
    "    return func(np.random.choice(data, size=len(data)))\n",
    "def draw_bs_reps(data, func, size=1):\n",
    "    \"\"\"Draw bootstrap replicates.\"\"\"\n",
    "\n",
    "    # Initialize array of replicates: bs_replicates\n",
    "    bs_replicates = np.empty(size)\n",
    "\n",
    "    # Generate replicates\n",
    "    for i in range(size):\n",
    "        bs_replicates[i] = bootstrap_replicate_1d(data, func)\n",
    "\n",
    "    return bs_replicates\n",
    "\n",
    "# Take 10,000 bootstrap replicates of the mean: bs_replicates\n",
    "bs_replicates_b_called = draw_bs_reps(data[data.race=='b'].call, np.mean, size=10000)\n",
    "\n",
    "# Compute and print SEM\n",
    "sem_b = np.std(data[data.race=='b'].call) / np.sqrt(len(data[data.race=='b'].call))\n",
    "# Compute and print standard deviation of bootstrap replicates\n",
    "bs_std_b = np.std(bs_replicates_b_called)\n",
    "print('For black call backs the sem is: {:.3}\\n and standard deviation of bootstrap replicates is: {:.3}' \\\n",
    "      .format(sem_b,bs_std_b))\n",
    "# Generate 10,000 bootstrap replicates of the variance: bs_replicates\n",
    "bs_replicates_b_called = draw_bs_reps(data[data.race=='b'].call, np.var, size=10000)\n",
    "\n",
    "# Make a histogram of the results\n",
    "#_ = plt.hist(bs_replicates_b_called, bins=50, normed=True)\n",
    "#_ = plt.xlabel('variance of black callback')\n",
    "#_ = plt.ylabel('PDF')\n",
    "\n",
    "# Show the plot\n",
    "plt.show()\n",
    "\n",
    "# Compute the 95% confidence interval: conf_int\n",
    "conf_int_b = np.percentile(bs_replicates_b_called,[2.5, 97.5])\n",
    "\n",
    "# Print the confidence interval\n",
    "print('95% confidence interval =', conf_int_b, 'of black called back')\n",
    "\n",
    "##################################################################\n",
    "bs_replicates_w_called = draw_bs_reps(data[data.race=='w'].call, np.mean, size=10000)\n",
    "\n",
    "# Compute and print SEM\n",
    "sem_w = np.std(data[data.race=='w'].call) / np.sqrt(len(data[data.race=='w'].call))\n",
    "\n",
    "\n",
    "# Compute and print standard deviation of bootstrap replicates\n",
    "bs_std_w = np.std(bs_replicates_b_called)\n",
    "\n",
    "print('For white call backs the sem is: {:.3}\\n and standard deviation of bootstrap replicates is: {:.3}' \\\n",
    "      .format(sem_w,bs_std_w))\n",
    "# Generate 10,000 bootstrap replicates of the variance: bs_replicates\n",
    "bs_replicates_w_called = draw_bs_reps(data[data.race=='w'].call, np.var, size=10000)\n",
    "\n",
    "# Make a histogram of the results\n",
    "#_ = plt.hist(bs_replicates_w_called, bins=50, normed=True)\n",
    "#_ = plt.xlabel('variance of white callback')\n",
    "#_ = plt.ylabel('PDF')\n",
    "\n",
    "# Show the plot\n",
    "plt.show()\n",
    "\n",
    "# Compute the 95% confidence interval: conf_int\n",
    "conf_int_w = np.percentile(bs_replicates_w_called,[2.5, 97.5])\n",
    "\n",
    "# Print the confidence interval\n",
    "print('95% confidence interval =', conf_int_w, 'of white called back')\n",
    "\n"
   ]
  },
  {
   "cell_type": "markdown",
   "metadata": {},
   "source": [
    "### Two-sample bootstrap hypothesis test for difference of means."
   ]
  },
  {
   "cell_type": "code",
   "execution_count": 12,
   "metadata": {},
   "outputs": [
    {
     "name": "stdout",
     "output_type": "stream",
     "text": [
      "0.03203285485506058\n"
     ]
    },
    {
     "name": "stderr",
     "output_type": "stream",
     "text": [
      "/home/titli/anaconda3/lib/python3.6/site-packages/pandas/core/indexes/base.py:3755: RuntimeWarning: '<' not supported between instances of 'int' and 'str', sort order is undefined for incomparable objects\n",
      "  return this.join(other, how=how, return_indexers=return_indexers)\n"
     ]
    },
    {
     "name": "stdout",
     "output_type": "stream",
     "text": [
      "p-value = 0.0\n"
     ]
    },
    {
     "name": "stderr",
     "output_type": "stream",
     "text": [
      "/home/titli/anaconda3/lib/python3.6/site-packages/ipykernel_launcher.py:20: RuntimeWarning: invalid value encountered in greater_equal\n"
     ]
    }
   ],
   "source": [
    "empirical_diff_means = np.mean(data[data.race=='w'].call)- np.mean(data[data.race=='b'].call)\n",
    "print(empirical_diff_means)\n",
    "# Concatenate race: race_concat\n",
    "race_concat = np.concatenate((data[data.race=='b'].call, data[data.race=='w'].call))\n",
    "# Compute mean of all forces: mean_force\n",
    "mean_race = np.mean(race_concat)\n",
    "\n",
    "# Generate shifted arrays\n",
    "b_shifted = data[data.race=='b'].call- np.mean(data[data.race=='b']) + mean_race\n",
    "w_shifted = data[data.race=='w'].call - np.mean(data[data.race=='w']) + mean_race\n",
    "\n",
    "# Compute 10,000 bootstrap replicates from shifted arrays\n",
    "bs_replicates_b = draw_bs_reps(b_shifted, np.mean, size=10000)\n",
    "bs_replicates_w = draw_bs_reps(w_shifted, np.mean, size=10000)\n",
    "\n",
    "# Get replicates of difference of means: bs_replicates\n",
    "bs_replicates = bs_replicates_b - bs_replicates_w\n",
    "\n",
    "# Compute and print p-value: p\n",
    "p = np.sum(bs_replicates >= empirical_diff_means) / len(bs_replicates)\n",
    "print('p-value =', p)"
   ]
  },
  {
   "cell_type": "markdown",
   "metadata": {},
   "source": [
    "#### Frequentist statistical approaches.\n",
    "\n",
    "Z-statistics"
   ]
  },
  {
   "cell_type": "code",
   "execution_count": 56,
   "metadata": {},
   "outputs": [
    {
     "name": "stdout",
     "output_type": "stream",
     "text": [
      "The z-score is: 4.108412152434346\n",
      "The p-value is: 3.983886837577444e-05\n"
     ]
    }
   ],
   "source": [
    "#(p1-p2)\n",
    "difference = P1 - P2\n",
    "n1=len(data[data.race=='b'])\n",
    "n2= len(data[data.race=='w'])\n",
    "#calculate p-bar\n",
    "p_bar = (sum(data[data.race=='w'].call) + sum(data[data.race=='b'].call))  \\\n",
    "        / (n1 +n2)\n",
    "#calculate q-bar\n",
    "q_bar = 1 - p_bar\n",
    "#calculate p-hat 1\n",
    "p_hat_1 = np.divide(sum(data[data.race=='w'].call),n1)\n",
    "#calculate p-hat 2\n",
    "p_hat_2 = np.divide(sum(data[data.race=='b'].call),n2)\n",
    "x = np.add(np.divide(1,n1),np.divide(1,n2))\n",
    "#calculate z-score\n",
    "z = (p_hat_1 - p_hat_2) / np.sqrt(p_bar * q_bar * x)\n",
    "#calculate p-value\n",
    "p = (1 - stats.norm.cdf(z)) * 2\n",
    "print('The z-score is: {}\\nThe p-value is: {}'.format(z,p))"
   ]
  },
  {
   "cell_type": "markdown",
   "metadata": {},
   "source": [
    "#### Margin of Error\n",
    "z * $\\sqrt{\\bar{p}\\bar{q}(\\frac{1}{n_1}+\\frac{1}{n_2})}$\n",
    "\n",
    "where z is the z-score for the desired confidence interval (critical values) e.g. if you want the z score for 95% confidence interval, you can reference the table [here](http://www.statisticshowto.com/probability-and-statistics/find-critical-values/#CommonCI) and see that the z score for this critical value is 1.96"
   ]
  },
  {
   "cell_type": "code",
   "execution_count": 39,
   "metadata": {},
   "outputs": [
    {
     "name": "stdout",
     "output_type": "stream",
     "text": [
      "The margin of error is: 0.01528\n"
     ]
    }
   ],
   "source": [
    "moe = 1.96 * np.sqrt(p_bar * q_bar * x)\n",
    "print('The margin of error is: {:.4}'.format(moe))"
   ]
  },
  {
   "cell_type": "markdown",
   "metadata": {},
   "source": [
    "#### Confidence Interval values\n",
    "Using the margin of error, we can take our sample difference, add and subtract the m.o.e and establish (in this case) the 95% confidence interval. \n",
    "\n",
    "* Confidence Interval = ($p_1 - p_2$) $\\pm$ (margin of error)"
   ]
  },
  {
   "cell_type": "code",
   "execution_count": 41,
   "metadata": {},
   "outputs": [
    {
     "name": "stdout",
     "output_type": "stream",
     "text": [
      "With 95% confidence, the interval range is :\n",
      " [-0.04731476652033968, -0.01675094189855149]\n"
     ]
    }
   ],
   "source": [
    "ci = [(difference-moe), (difference+moe)]\n",
    "print('With 95% confidence, the interval range is :\\n {}'.format(ci))"
   ]
  },
  {
   "cell_type": "markdown",
   "metadata": {},
   "source": [
    "#### $\\chi^2$ Chi-squared Test for Equality of Proportions\n",
    "The chi-square test compares the expected frequencies to observed frequencies. The null hypothesis is rejected if observed and expected frequencies are too far apart."
   ]
  },
  {
   "cell_type": "code",
   "execution_count": 62,
   "metadata": {},
   "outputs": [
    {
     "name": "stdout",
     "output_type": "stream",
     "text": [
      "race     b     w\n",
      "call            \n",
      "0.0   2278  2200\n",
      "1.0    157   235\n",
      "chi-square test value is 16.4 and p value is 3.98e-05\n"
     ]
    }
   ],
   "source": [
    "table = data[['race','call']]\n",
    "tabulated = pd.crosstab(index = table.call, columns = table.race)\n",
    "print(tabulated)\n",
    "chi, pval, _, _ = stats.chi2_contingency(tabulated)\n",
    "print('chi-square test value is {:.3} and p value is {:0.3}'.format(chi,p))"
   ]
  },
  {
   "cell_type": "markdown",
   "metadata": {},
   "source": [
    "<div class=\"span5 alert alert-success\">\n",
    "<p> Your answers to Q4 and Q5 here </p>\n",
    "</div>"
   ]
  },
  {
   "cell_type": "markdown",
   "metadata": {},
   "source": [
    "### Q4 and Q5 : Conclusion\n",
    "Performing both CLT and Chi square yields a p-value of 3.98e-05 and null hypothesis gives the the same result that there is difference between black and white resumes. This however does not mean it is the only reason for the disproportion. Multivariate analysis must be performed on all supplied variables, as some may weigh more heavy on the resulting statistics than only race."
   ]
  },
  {
   "cell_type": "code",
   "execution_count": null,
   "metadata": {},
   "outputs": [],
   "source": []
  }
 ],
 "metadata": {
  "kernelspec": {
   "display_name": "Python 2",
   "language": "python",
   "name": "python2"
  },
  "language_info": {
   "codemirror_mode": {
    "name": "ipython",
    "version": 3
   },
   "file_extension": ".py",
   "mimetype": "text/x-python",
   "name": "python",
   "nbconvert_exporter": "python",
   "pygments_lexer": "ipython3",
   "version": "3.6.5"
  }
 },
 "nbformat": 4,
 "nbformat_minor": 1
}
