{
 "cells": [
  {
   "cell_type": "code",
   "execution_count": null,
   "metadata": {},
   "outputs": [],
   "source": [
    "batch_size = 32\n",
    "embedding_dims = 3647\n",
    "hidden_dims = 250\n",
    "epochs = 30\n",
    "hidden_dims = 250"
   ]
  },
  {
   "cell_type": "code",
   "execution_count": null,
   "metadata": {},
   "outputs": [],
   "source": [
    "import numpy as np\n",
    "from keras.models import Model\n",
    "from keras.preprocessing import sequence\n",
    "from keras.models import Sequential\n",
    "from keras.layers import Dense, Dropout, Activation, Input, BatchNormalization\n",
    "from keras.layers import Conv1D, GlobalMaxPooling1D, MaxPool1D, Flatten \n",
    "inp =  Input(shape=(embedding_dims, 1))\n",
    "x = Conv1D(filters=1500, kernel_size=3, activation='relu',padding='valid', strides=1)(inp)\n",
    "x = BatchNormalization(name='bn1_1')(x)\n",
    "x = MaxPool1D(pool_size=3)(x)\n",
    "x = Conv1D(filters=1000, kernel_size=3, activation='relu',padding='valid', strides=1)(x)\n",
    "x = Dense(hidden_dims)(x)\n",
    "x = (Dropout(0.5))(x)\n",
    "x = BatchNormalization(name='bn1_2')(x)\n",
    "pool = MaxPool1D(pool_size=3)(x)\n",
    "flat = Flatten()(pool)\n",
    "dense = Dense(1)(flat)\n",
    "activation = (Activation('sigmoid'))(dense)\n",
    "model = Model(inp, activation)"
   ]
  }
 ],
 "metadata": {
  "kernelspec": {
   "display_name": "Python 3",
   "language": "python",
   "name": "python3"
  },
  "language_info": {
   "codemirror_mode": {
    "name": "ipython",
    "version": 3
   },
   "file_extension": ".py",
   "mimetype": "text/x-python",
   "name": "python",
   "nbconvert_exporter": "python",
   "pygments_lexer": "ipython3",
   "version": "3.6.5"
  }
 },
 "nbformat": 4,
 "nbformat_minor": 2
}
