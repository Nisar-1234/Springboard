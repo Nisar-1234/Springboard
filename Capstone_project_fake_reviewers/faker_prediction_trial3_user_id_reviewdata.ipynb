{
 "cells": [
  {
   "cell_type": "code",
   "execution_count": 7,
   "metadata": {},
   "outputs": [],
   "source": [
    "import pandas as pd\n",
    "import json\n",
    "import numpy as np\n",
    "from sklearn import preprocessing\n",
    "import matplotlib.pyplot as plt\n",
    "from sklearn.metrics import mean_squared_error\n",
    "from sklearn.model_selection import train_test_split\n",
    "from sklearn.feature_selection import RFE\n",
    "from sklearn.linear_model import LogisticRegression\n",
    "from sklearn.cross_validation import train_test_split\n",
    "import seaborn as sns\n",
    "userdatapath = '/home/titli/Documents/Springboard1/test.csv'\n",
    "selecteddatapath = '/home/titli/Documents/Springboard1/test1.csv'\n",
    "reviewfile= '/home/titli/Documents/Springboard1/dataset/review.json'\n",
    "numsamples=200\n",
    "rowsamples=20"
   ]
  },
  {
   "cell_type": "code",
   "execution_count": 142,
   "metadata": {
    "scrolled": true
   },
   "outputs": [],
   "source": [
    "old=pd.read_csv(userdatapath, header=0,  index_col=0, nrows=numsamples)\n",
    "#selectedrows=[0,8,12,15,19,25,28,29,1,3,4,5,6,7,9,10,44,46,16,17]\n",
    "selectedrows=[0,8,12,15,19,25,28,29,2,3,4,5,6,7,9,10,44,46,16,17]\n",
    "inter=[]\n",
    "for row in selectedrows:\n",
    "    line= old.iloc[row]\n",
    "    inter.append(line)\n",
    "old_1=pd.DataFrame(inter)\n",
    "old_1.set_index('user_id')\n",
    "old_1.head(10)\n",
    "old_1.to_csv(selecteddatapath)"
   ]
  },
  {
   "cell_type": "code",
   "execution_count": 143,
   "metadata": {},
   "outputs": [],
   "source": [
    "from pandas.io.json import json_normalize\n",
    "def getreviews(user_ids):\n",
    "    \"\"\" gets one text review for each user in user_ids list\"\"\"\n",
    "    result=[]\n",
    "    with open(reviewfile) as f:\n",
    "         for line in f:\n",
    "             record = json.loads(line)\n",
    "             if record['user_id'] in user_ids: \n",
    "                result.append(record)\n",
    "             if len(result) >= numsamples:\n",
    "                break\n",
    "    reviewdata = pd.DataFrame(result)\n",
    "    return reviewdata"
   ]
  },
  {
   "cell_type": "code",
   "execution_count": 144,
   "metadata": {},
   "outputs": [
    {
     "data": {
      "text/html": [
       "<div>\n",
       "<style scoped>\n",
       "    .dataframe tbody tr th:only-of-type {\n",
       "        vertical-align: middle;\n",
       "    }\n",
       "\n",
       "    .dataframe tbody tr th {\n",
       "        vertical-align: top;\n",
       "    }\n",
       "\n",
       "    .dataframe thead th {\n",
       "        text-align: right;\n",
       "    }\n",
       "</style>\n",
       "<table border=\"1\" class=\"dataframe\">\n",
       "  <thead>\n",
       "    <tr style=\"text-align: right;\">\n",
       "      <th></th>\n",
       "      <th>average_stars</th>\n",
       "      <th>compliment_cool</th>\n",
       "      <th>compliment_funny</th>\n",
       "      <th>review_count</th>\n",
       "      <th>fans</th>\n",
       "    </tr>\n",
       "  </thead>\n",
       "  <tbody>\n",
       "    <tr>\n",
       "      <th>0</th>\n",
       "      <td>4.67</td>\n",
       "      <td>0</td>\n",
       "      <td>0</td>\n",
       "      <td>8</td>\n",
       "      <td>0</td>\n",
       "    </tr>\n",
       "    <tr>\n",
       "      <th>1</th>\n",
       "      <td>1.00</td>\n",
       "      <td>0</td>\n",
       "      <td>0</td>\n",
       "      <td>1</td>\n",
       "      <td>0</td>\n",
       "    </tr>\n",
       "    <tr>\n",
       "      <th>2</th>\n",
       "      <td>1.67</td>\n",
       "      <td>0</td>\n",
       "      <td>0</td>\n",
       "      <td>2</td>\n",
       "      <td>0</td>\n",
       "    </tr>\n",
       "    <tr>\n",
       "      <th>3</th>\n",
       "      <td>3.00</td>\n",
       "      <td>0</td>\n",
       "      <td>0</td>\n",
       "      <td>2</td>\n",
       "      <td>0</td>\n",
       "    </tr>\n",
       "    <tr>\n",
       "      <th>4</th>\n",
       "      <td>3.73</td>\n",
       "      <td>1</td>\n",
       "      <td>1</td>\n",
       "      <td>48</td>\n",
       "      <td>3</td>\n",
       "    </tr>\n",
       "  </tbody>\n",
       "</table>\n",
       "</div>"
      ],
      "text/plain": [
       "   average_stars  compliment_cool  compliment_funny  review_count  fans\n",
       "0           4.67                0                 0             8     0\n",
       "1           1.00                0                 0             1     0\n",
       "2           1.67                0                 0             2     0\n",
       "3           3.00                0                 0             2     0\n",
       "4           3.73                1                 1            48     3"
      ]
     },
     "execution_count": 144,
     "metadata": {},
     "output_type": "execute_result"
    }
   ],
   "source": [
    "small= pd.read_csv(selecteddatapath, header=0)\n",
    "cols='average_stars \tcompliment_cool \tcompliment_funny \treview_count  fans'.split()\n",
    "user_ids = small['user_id'].iloc[:numsamples].values.tolist()\n",
    "review_texts = getreviews(user_ids)\n",
    "old_2=small[cols]\n",
    "old_2.head()"
   ]
  },
  {
   "cell_type": "code",
   "execution_count": 145,
   "metadata": {},
   "outputs": [],
   "source": [
    "df1 = []\n",
    "for k in range(0,rowsamples):\n",
    "    df1.append({'rev_length': len(review_texts['text'].iloc[k])})\n",
    "revlen=pd.DataFrame(df1)"
   ]
  },
  {
   "cell_type": "code",
   "execution_count": 146,
   "metadata": {},
   "outputs": [],
   "source": [
    "from collections import Counter\n",
    "import re\n",
    "df4=[]\n",
    "counts_UC=[]\n",
    "counts_LC=[]\n",
    "counts_NO=[]\n",
    "counts_uscore=[]\n",
    "counts_dash=[]\n",
    "\n",
    "for k in range(0,rowsamples):\n",
    "    counts_UC=(len(re.findall(r'[A-Z]', old_1['user_id'].iloc[k])))\n",
    "    counts_NO=(len(re.findall(r'[0-9]', old_1['user_id'].iloc[k])))\n",
    "    counts_LC=(len(re.findall(r'[a-z]', old_1['user_id'].iloc[k])))\n",
    "    counter = Counter(old_1['user_id'].iloc[k])\n",
    "    counts_uscore=(counter['_'])\n",
    "    counts_dash=(counter['-'])\n",
    "    df4.append({'Uppercase': counts_UC, 'Lowercase': counts_LC, 'Number': counts_NO})\n",
    "               \n",
    "                #'Dash': counts_dash, 'underscore': counts_uscore})\n",
    "    #str user_id keys is a charecter values no. of times charecyter occurs.\n",
    "#create a dataframe append that dataframe\n",
    "userid_counts=pd.DataFrame(df4)"
   ]
  },
  {
   "cell_type": "code",
   "execution_count": 101,
   "metadata": {},
   "outputs": [],
   "source": [
    "from sklearn.feature_extraction.text import TfidfVectorizer\n",
    "df4 = []\n",
    "for k in range(0,rowsamples):\n",
    "    corpus = [old_1['user_id'].iloc[k]]\n",
    "    vectorizer = TfidfVectorizer()\n",
    "    A = vectorizer.fit_transform(corpus)\n",
    "    Al = A.tolil()\n",
    "    df4.append({'tfvec': Al.data[0][0]})\n",
    "userid_counts=pd.DataFrame(df4)"
   ]
  },
  {
   "cell_type": "code",
   "execution_count": 147,
   "metadata": {},
   "outputs": [
    {
     "data": {
      "text/plain": [
       "array([[<matplotlib.axes._subplots.AxesSubplot object at 0x7f92d8531f60>,\n",
       "        <matplotlib.axes._subplots.AxesSubplot object at 0x7f92d8557278>]],\n",
       "      dtype=object)"
      ]
     },
     "execution_count": 147,
     "metadata": {},
     "output_type": "execute_result"
    },
    {
     "data": {
      "image/png": "[encoded data removed]",
      "text/plain": [
       "<Figure size 432x288 with 2 Axes>"
      ]
     },
     "metadata": {},
     "output_type": "display_data"
    }
   ],
   "source": [
    "def getnumericyear(A):\n",
    "    years= ['2004','2005','2006', '2007', '2008' ,'2009', '2010', '2011', '2012', '2013', '2014', '2015', \n",
    "        '2016', '2017', '2018']\n",
    "    for i, x in enumerate(years):\n",
    "        if (A in x)==True:\n",
    "            return i+1\n",
    "def getnumericmonth(B):\n",
    "    months=['01','02', '03', '04', '05', '06', '07','08', '09', '10', '11','12']\n",
    "    for i, x in enumerate(months):\n",
    "        if (B in x)==True:\n",
    "            return i+1\n",
    "def getrange(B):\n",
    "    if B <= -300: return -3\n",
    "    if B <= -200 and B > -300: return -2\n",
    "    if B <= -100 and B > -200: return -1\n",
    "    if B <= 0 and B > -100: return 0\n",
    "    if B <= 100 and B > 0: return 1\n",
    "    if B <= 200 and B > 100: return 2\n",
    "    if B <= 300 and B > 200: return 3\n",
    "    \n",
    "Xyear=old_1['yelping_since']   \n",
    "df1 = []\n",
    "for k in range(0,rowsamples):\n",
    "    dyear=(Xyear.iloc[k]).split(\"-\")\n",
    "    rr1= np.int_(np.concatenate([np.zeros(getnumericmonth(dyear[1])-1),[1],np.zeros(12-getnumericmonth(dyear[1]))]).tolist()) \n",
    "    month_d= (int('1'+''.join(map(str, rr1)),2))+ int(dyear[2])-4127 # subtract mode\n",
    "    rr2= np.int_(np.concatenate([np.zeros(getnumericyear(dyear[0])-1),[1],np.zeros(15-getnumericyear(dyear[0]))]).tolist()) \n",
    "    year_d=(int('1'+''.join(map(str, rr2)),2))-32770\n",
    "    df1.append({'year_dummy': year_d, 'month_dummy': month_d })\n",
    "            \n",
    "    \n",
    "yelp_since=pd.DataFrame(df1)\n",
    "#sns.heatmap(df_yelp, annot=True)\n",
    "yelp_since.hist(bins=50)"
   ]
  },
  {
   "cell_type": "code",
   "execution_count": 148,
   "metadata": {},
   "outputs": [],
   "source": [
    "old_1['friends'].replace(to_replace= '[]', value=np.nan, inplace=True)\n",
    "old_1['friends'].fillna(value='00', inplace=True) "
   ]
  },
  {
   "cell_type": "code",
   "execution_count": 149,
   "metadata": {},
   "outputs": [
    {
     "data": {
      "text/html": [
       "<div>\n",
       "<style scoped>\n",
       "    .dataframe tbody tr th:only-of-type {\n",
       "        vertical-align: middle;\n",
       "    }\n",
       "\n",
       "    .dataframe tbody tr th {\n",
       "        vertical-align: top;\n",
       "    }\n",
       "\n",
       "    .dataframe thead th {\n",
       "        text-align: right;\n",
       "    }\n",
       "</style>\n",
       "<table border=\"1\" class=\"dataframe\">\n",
       "  <thead>\n",
       "    <tr style=\"text-align: right;\">\n",
       "      <th></th>\n",
       "      <th>friend_count</th>\n",
       "    </tr>\n",
       "  </thead>\n",
       "  <tbody>\n",
       "    <tr>\n",
       "      <th>0</th>\n",
       "      <td>9</td>\n",
       "    </tr>\n",
       "    <tr>\n",
       "      <th>1</th>\n",
       "      <td>0</td>\n",
       "    </tr>\n",
       "    <tr>\n",
       "      <th>2</th>\n",
       "      <td>0</td>\n",
       "    </tr>\n",
       "    <tr>\n",
       "      <th>3</th>\n",
       "      <td>0</td>\n",
       "    </tr>\n",
       "    <tr>\n",
       "      <th>4</th>\n",
       "      <td>261</td>\n",
       "    </tr>\n",
       "  </tbody>\n",
       "</table>\n",
       "</div>"
      ],
      "text/plain": [
       "   friend_count\n",
       "0             9\n",
       "1             0\n",
       "2             0\n",
       "3             0\n",
       "4           261"
      ]
     },
     "execution_count": 149,
     "metadata": {},
     "output_type": "execute_result"
    }
   ],
   "source": [
    "df2 = []\n",
    "for k in range(0,rowsamples):\n",
    "    count=0\n",
    "    Xfrnd=(old_1['friends'].iloc[[k]].values).tolist()\n",
    "    dfrnd = (\", \".join(Xfrnd)).split(',')[1:-1]\n",
    "    if dfrnd is None:\n",
    "       break\n",
    "    else:\n",
    "       count=len(dfrnd)\n",
    "       df2.append({'friend_count': count})    \n",
    "frnd=pd.DataFrame(df2)\n",
    "frnd.head()"
   ]
  },
  {
   "cell_type": "code",
   "execution_count": 150,
   "metadata": {},
   "outputs": [
    {
     "data": {
      "text/html": [
       "<div>\n",
       "<style scoped>\n",
       "    .dataframe tbody tr th:only-of-type {\n",
       "        vertical-align: middle;\n",
       "    }\n",
       "\n",
       "    .dataframe tbody tr th {\n",
       "        vertical-align: top;\n",
       "    }\n",
       "\n",
       "    .dataframe thead th {\n",
       "        text-align: right;\n",
       "    }\n",
       "</style>\n",
       "<table border=\"1\" class=\"dataframe\">\n",
       "  <thead>\n",
       "    <tr style=\"text-align: right;\">\n",
       "      <th></th>\n",
       "      <th>elite_count</th>\n",
       "    </tr>\n",
       "  </thead>\n",
       "  <tbody>\n",
       "    <tr>\n",
       "      <th>0</th>\n",
       "      <td>0</td>\n",
       "    </tr>\n",
       "    <tr>\n",
       "      <th>1</th>\n",
       "      <td>0</td>\n",
       "    </tr>\n",
       "    <tr>\n",
       "      <th>2</th>\n",
       "      <td>0</td>\n",
       "    </tr>\n",
       "    <tr>\n",
       "      <th>3</th>\n",
       "      <td>0</td>\n",
       "    </tr>\n",
       "    <tr>\n",
       "      <th>4</th>\n",
       "      <td>0</td>\n",
       "    </tr>\n",
       "  </tbody>\n",
       "</table>\n",
       "</div>"
      ],
      "text/plain": [
       "   elite_count\n",
       "0            0\n",
       "1            0\n",
       "2            0\n",
       "3            0\n",
       "4            0"
      ]
     },
     "execution_count": 150,
     "metadata": {},
     "output_type": "execute_result"
    }
   ],
   "source": [
    "df3 = []\n",
    "for k in range(0,rowsamples):\n",
    "    count=0\n",
    "    Xelite=(old_1['elite'].iloc[[k]].values).tolist()\n",
    "    delite = (\", \".join(Xelite)).split(',')[1:-1]\n",
    "    if delite is None:\n",
    "       break\n",
    "    else:\n",
    "       count=len(delite)\n",
    "       df3.append({'elite_count': count})    \n",
    "elite=pd.DataFrame(df3)\n",
    "elite.head()"
   ]
  },
  {
   "cell_type": "code",
   "execution_count": 151,
   "metadata": {},
   "outputs": [],
   "source": [
    "# Faker dataframe\n",
    "d={'Faker':[1,1,1,1,1,1,1,1,0,0,0,0,0,0,0,0,1,1,0,0]}\n",
    "#(0,8,12,15,19,25,28,29, 2,3,4,5,6,7,9,10,32,35,11,13)\n",
    "faker= pd.DataFrame(data=d)"
   ]
  },
  {
   "cell_type": "code",
   "execution_count": 152,
   "metadata": {},
   "outputs": [
    {
     "data": {
      "text/html": [
       "<div>\n",
       "<style scoped>\n",
       "    .dataframe tbody tr th:only-of-type {\n",
       "        vertical-align: middle;\n",
       "    }\n",
       "\n",
       "    .dataframe tbody tr th {\n",
       "        vertical-align: top;\n",
       "    }\n",
       "\n",
       "    .dataframe thead th {\n",
       "        text-align: right;\n",
       "    }\n",
       "</style>\n",
       "<table border=\"1\" class=\"dataframe\">\n",
       "  <thead>\n",
       "    <tr style=\"text-align: right;\">\n",
       "      <th></th>\n",
       "      <th>average_stars</th>\n",
       "      <th>compliment_cool</th>\n",
       "      <th>compliment_funny</th>\n",
       "      <th>review_count</th>\n",
       "      <th>fans</th>\n",
       "      <th>month_dummy</th>\n",
       "      <th>year_dummy</th>\n",
       "      <th>friend_count</th>\n",
       "      <th>elite_count</th>\n",
       "      <th>Lowercase</th>\n",
       "      <th>Number</th>\n",
       "      <th>Uppercase</th>\n",
       "      <th>rev_length</th>\n",
       "      <th>Faker</th>\n",
       "    </tr>\n",
       "  </thead>\n",
       "  <tbody>\n",
       "    <tr>\n",
       "      <th>0</th>\n",
       "      <td>4.67</td>\n",
       "      <td>0</td>\n",
       "      <td>0</td>\n",
       "      <td>8</td>\n",
       "      <td>0</td>\n",
       "      <td>-26</td>\n",
       "      <td>14</td>\n",
       "      <td>9</td>\n",
       "      <td>0</td>\n",
       "      <td>12</td>\n",
       "      <td>1</td>\n",
       "      <td>7</td>\n",
       "      <td>402</td>\n",
       "      <td>1</td>\n",
       "    </tr>\n",
       "    <tr>\n",
       "      <th>1</th>\n",
       "      <td>1.00</td>\n",
       "      <td>0</td>\n",
       "      <td>0</td>\n",
       "      <td>1</td>\n",
       "      <td>0</td>\n",
       "      <td>-17</td>\n",
       "      <td>254</td>\n",
       "      <td>0</td>\n",
       "      <td>0</td>\n",
       "      <td>12</td>\n",
       "      <td>5</td>\n",
       "      <td>5</td>\n",
       "      <td>327</td>\n",
       "      <td>1</td>\n",
       "    </tr>\n",
       "    <tr>\n",
       "      <th>2</th>\n",
       "      <td>1.67</td>\n",
       "      <td>0</td>\n",
       "      <td>0</td>\n",
       "      <td>2</td>\n",
       "      <td>0</td>\n",
       "      <td>57</td>\n",
       "      <td>2</td>\n",
       "      <td>0</td>\n",
       "      <td>0</td>\n",
       "      <td>7</td>\n",
       "      <td>3</td>\n",
       "      <td>11</td>\n",
       "      <td>445</td>\n",
       "      <td>1</td>\n",
       "    </tr>\n",
       "    <tr>\n",
       "      <th>3</th>\n",
       "      <td>3.00</td>\n",
       "      <td>0</td>\n",
       "      <td>0</td>\n",
       "      <td>2</td>\n",
       "      <td>0</td>\n",
       "      <td>-3</td>\n",
       "      <td>0</td>\n",
       "      <td>0</td>\n",
       "      <td>0</td>\n",
       "      <td>8</td>\n",
       "      <td>3</td>\n",
       "      <td>9</td>\n",
       "      <td>823</td>\n",
       "      <td>1</td>\n",
       "    </tr>\n",
       "    <tr>\n",
       "      <th>4</th>\n",
       "      <td>3.73</td>\n",
       "      <td>1</td>\n",
       "      <td>1</td>\n",
       "      <td>48</td>\n",
       "      <td>3</td>\n",
       "      <td>7</td>\n",
       "      <td>254</td>\n",
       "      <td>261</td>\n",
       "      <td>0</td>\n",
       "      <td>8</td>\n",
       "      <td>2</td>\n",
       "      <td>12</td>\n",
       "      <td>240</td>\n",
       "      <td>1</td>\n",
       "    </tr>\n",
       "  </tbody>\n",
       "</table>\n",
       "</div>"
      ],
      "text/plain": [
       "   average_stars  compliment_cool  compliment_funny  review_count  fans  \\\n",
       "0           4.67                0                 0             8     0   \n",
       "1           1.00                0                 0             1     0   \n",
       "2           1.67                0                 0             2     0   \n",
       "3           3.00                0                 0             2     0   \n",
       "4           3.73                1                 1            48     3   \n",
       "\n",
       "   month_dummy  year_dummy  friend_count  elite_count  Lowercase  Number  \\\n",
       "0          -26          14             9            0         12       1   \n",
       "1          -17         254             0            0         12       5   \n",
       "2           57           2             0            0          7       3   \n",
       "3           -3           0             0            0          8       3   \n",
       "4            7         254           261            0          8       2   \n",
       "\n",
       "   Uppercase  rev_length  Faker  \n",
       "0          7         402      1  \n",
       "1          5         327      1  \n",
       "2         11         445      1  \n",
       "3          9         823      1  \n",
       "4         12         240      1  "
      ]
     },
     "execution_count": 152,
     "metadata": {},
     "output_type": "execute_result"
    }
   ],
   "source": [
    "#new = pd.concat([old_2, yelp_since, frnd, elite, userid_counts, revlen, faker], axis=1)\n",
    "new = pd.concat([old_2, yelp_since, frnd, elite, userid_counts, revlen, faker], axis=1)\n",
    "new.head()"
   ]
  },
  {
   "cell_type": "markdown",
   "metadata": {},
   "source": [
    "# Machine learning"
   ]
  },
  {
   "cell_type": "code",
   "execution_count": 153,
   "metadata": {},
   "outputs": [
    {
     "name": "stdout",
     "output_type": "stream",
     "text": [
      "R^2: 0.619\n",
      "R^2 train_test_split: -1.64\n",
      "Root Mean Squared Error: 0.786\n"
     ]
    }
   ],
   "source": [
    "# Import LinearRegression\n",
    "from sklearn.linear_model import LinearRegression\n",
    "cleaned_data=new\n",
    "#feature_columns =' \taverage_stars \tcompliment_cool \tcompliment_funny \treview_count \t \\\n",
    "#fans  \tfriend_count \telite_count  \tLowercase \tNumber \tUppercase'.split()\n",
    "\n",
    "#feature_columns =' \taverage_stars \tcompliment_cool \tcompliment_funny \treview_count \t \\\n",
    "#fans \tmonth_dummy \tyear_dummy \tfriend_count \telite_count  \ttfvec'.split()\n",
    "\n",
    "feature_columns =' \taverage_stars \tcompliment_cool \tcompliment_funny \treview_count \t \\\n",
    "fans \tmonth_dummy \tyear_dummy \tfriend_count \telite_count \tLowercase \tNumber \tUppercase'.split()\n",
    "\n",
    "\n",
    "target_columns = ['Faker']\n",
    "X = cleaned_data[feature_columns]\n",
    "y= cleaned_data[target_columns]\n",
    "\n",
    "# Create the regressor: reg\n",
    "reg = LinearRegression()\n",
    "# Create the prediction space\n",
    "#prediction_space = np.linspace(min(X_fertility), max(X_fertility)).reshape(-1,1)\n",
    "\n",
    "# Fit the model to the data\n",
    "reg.fit(X,y)\n",
    "\n",
    "\n",
    "# Print R^2 \n",
    "print('R^2: {:0.3}'.format(reg.score(X,y)))\n",
    "\n",
    "# Create training and test sets\n",
    "X_train, X_test, y_train, y_test = train_test_split(X, y, test_size = 0.4, random_state=42)\n",
    "\n",
    "# Create the regressor: reg_all\n",
    "reg_all = LinearRegression()\n",
    "\n",
    "# Fit the regressor to the training data\n",
    "reg_all.fit(X_train,y_train)\n",
    "\n",
    "# Predict on the test data: y_pred\n",
    "y_pred = reg_all.predict(X_test)\n",
    "\n",
    "# Compute and print R^2 and RMSE\n",
    "print(\"R^2 train_test_split: {:0.3}\".format(reg_all.score(X_test, y_test)))\n",
    "rmse = np.sqrt(mean_squared_error(y_test, y_pred))\n",
    "print(\"Root Mean Squared Error: {:0.3}\".format(rmse))\n"
   ]
  },
  {
   "cell_type": "code",
   "execution_count": 154,
   "metadata": {},
   "outputs": [
    {
     "name": "stderr",
     "output_type": "stream",
     "text": [
      "/home/titli/anaconda3/lib/python3.6/site-packages/sklearn/utils/validation.py:578: DataConversionWarning: A column-vector y was passed when a 1d array was expected. Please change the shape of y to (n_samples, ), for example using ravel().\n",
      "  y = column_or_1d(y, warn=True)\n"
     ]
    }
   ],
   "source": [
    "# Import the necessary modules\n",
    "from sklearn.linear_model import LogisticRegression \n",
    "from sklearn.metrics import confusion_matrix, classification_report\n",
    "\n",
    "# Create training and test sets\n",
    "#X_train, X_test, y_train, y_test = train_test_split(X, y, test_size = 0.3, random_state=42)\n",
    "X_train=X.values[:16,:]\n",
    "y_train =y.values[:16,:]\n",
    "\n",
    "X_test=X.values[16:,:]\n",
    "y_test =y.values[16:,:]\n",
    "# Create the classifier: logreg\n",
    "logreg = LogisticRegression()\n",
    "\n",
    "# Fit the classifier to the training data\n",
    "logreg.fit(X_train,y_train)\n",
    "\n",
    "# Predict the labels of the test set: y_pred\n",
    "y_pred =logreg.predict(X_test)\n",
    "y_pred_train =logreg.predict(X_train)\n"
   ]
  },
  {
   "cell_type": "code",
   "execution_count": 155,
   "metadata": {},
   "outputs": [],
   "source": [
    "def confusion(predictions, actuals):\n",
    "    actuals=actuals.values[:,0] if isinstance(actuals,pd.DataFrame) else actuals\n",
    "    \n",
    "    true_pos= (predictions==1) & (actuals==1)\n",
    "    true_pos.sum()\n",
    "    true_neg= (predictions==0) & (actuals==0)\n",
    "    true_neg.sum()\n",
    "    false_pos= (predictions==1) & (actuals==0)\n",
    "    false_pos.sum()\n",
    "    false_neg= (predictions==0) & (actuals==1)\n",
    "    false_neg.sum()\n",
    "    \n",
    "    prec=true_pos.sum()/(true_pos.sum()+false_pos.sum())\n",
    "    accur=(true_pos.sum()+true_neg.sum())/(true_pos.sum()+false_pos.sum()+ \\\n",
    "                                           true_neg.sum()+ false_neg.sum())\n",
    "    recall = true_pos.sum()/(true_pos.sum()+false_neg.sum())\n",
    "    F1=2*(prec*recall/(prec+recall))\n",
    " \n",
    "    return([[true_pos.sum(), false_pos.sum()],[false_neg.sum(),true_neg.sum()]],prec, accur,recall, F1)"
   ]
  },
  {
   "cell_type": "code",
   "execution_count": 156,
   "metadata": {},
   "outputs": [
    {
     "data": {
      "text/plain": [
       "array([[1],\n",
       "       [1],\n",
       "       [0],\n",
       "       [0]])"
      ]
     },
     "execution_count": 156,
     "metadata": {},
     "output_type": "execute_result"
    }
   ],
   "source": [
    "y_test"
   ]
  },
  {
   "cell_type": "code",
   "execution_count": 157,
   "metadata": {},
   "outputs": [
    {
     "data": {
      "text/plain": [
       "([[1, 1], [1, 1]], 0.5, 0.5, 0.5, 0.5)"
      ]
     },
     "execution_count": 157,
     "metadata": {},
     "output_type": "execute_result"
    }
   ],
   "source": [
    "confusion(y_pred, y_test.reshape((1,4)))"
   ]
  },
  {
   "cell_type": "code",
   "execution_count": 158,
   "metadata": {},
   "outputs": [
    {
     "data": {
      "text/plain": [
       "([[8, 0], [0, 8]], 1.0, 1.0, 1.0, 1.0)"
      ]
     },
     "execution_count": 158,
     "metadata": {},
     "output_type": "execute_result"
    }
   ],
   "source": [
    "confusion(y_pred_train, y_train.reshape((1, 16)))"
   ]
  },
  {
   "cell_type": "markdown",
   "metadata": {},
   "source": [
    "True Positive (8)| False Postive|\n",
    "---|---|\n",
    "False Negatives | True Negatives(8)| \n"
   ]
  },
  {
   "cell_type": "markdown",
   "metadata": {},
   "source": [
    "### Precision-recall Curve\n",
    "When looking at your ROC curve, you may have noticed that the y-axis (True positive rate) is also known as recall. Indeed, in addition to the ROC curve, there are other ways to visually evaluate model performance. One such way is the precision-recall curve, which is generated by plotting the precision and recall for different thresholds. As a reminder, precision and recall are defined as:\n",
    "<br>\n",
    "Precision=$\\frac{TP}{TP+FP}$\n",
    "<br>\n",
    "Recall=$\\frac{TP}{TP+FN}$\n",
    "<br>\n",
    "F1 score = 2*$\\frac{Precision*Recall}{Precision+Recall}$"
   ]
  },
  {
   "cell_type": "markdown",
   "metadata": {},
   "source": [
    "Linereg with user_id| R^2 | R^2 train_test_split | RMS |5-Fold CV| Avg 5-fold|\n",
    "---|---|---|---|---|\n",
    " | 0.415 | -6.57 | 1.33|-1.89, 0.,-1.35 |-1.718 |\n",
    " | | | | -0.88, -4.47| | |\n",
    "<br>\n",
    "\n",
    "\n",
    "Logreg with user_id| precision | recall | f1-score |AUC 5-Fold CV| Avg AUC|GridSearch (3 fold)|GridSearch score\n",
    "---|---|---|---|---|---|---|\n",
    "0.0| 0.50 | 0.67 | 0.57|0,0,1,0.33,0 |0.33 | 0.0063|0.65|\n",
    "1.0| 0.50 | 0.33 | 0.40 || | | | |\n"
   ]
  },
  {
   "cell_type": "code",
   "execution_count": null,
   "metadata": {},
   "outputs": [],
   "source": []
  }
 ],
 "metadata": {
  "kernelspec": {
   "display_name": "Python 3",
   "language": "python",
   "name": "python3"
  },
  "language_info": {
   "codemirror_mode": {
    "name": "ipython",
    "version": 3
   },
   "file_extension": ".py",
   "mimetype": "text/x-python",
   "name": "python",
   "nbconvert_exporter": "python",
   "pygments_lexer": "ipython3",
   "version": "3.6.5"
  }
 },
 "nbformat": 4,
 "nbformat_minor": 2
}
