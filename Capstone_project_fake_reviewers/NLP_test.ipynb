{
 "cells": [
  {
   "cell_type": "code",
   "execution_count": 2,
   "metadata": {},
   "outputs": [],
   "source": [
    "import io\n",
    "import matplotlib.pyplot as plt\n",
    "import csv\n",
    "import json\n",
    "import re\n",
    "import os\n",
    "import pandas as pd\n",
    "import numpy as np\n",
    "import math\n",
    "userdatapath= '/home/titli/Documents/Springboard1/test.csv'\n",
    "source2= '/home/titli/Documents/Springboard1/dataset/review.json'\n",
    "data1=[]\n",
    "count=0\n",
    "with open(source2) as f:\n",
    "     for line in f:\n",
    "         #if count <= numsamples:\n",
    "            #data1.append(json.loads(line))\n",
    "         aa= line.split(',')\n",
    "         bb=aa[1].split(':')\n",
    "         str1=''.join(bb[1])\n",
    "         str2= str1.replace('\"', '', 1)\n",
    "         str3= str2.replace('\"', '', 1)\n",
    "         data1.append(str3)\n",
    "         #else:\n",
    "         #   break\n",
    "f.close()\n"
   ]
  },
  {
   "cell_type": "code",
   "execution_count": 8,
   "metadata": {},
   "outputs": [],
   "source": [
    "from pandas.io.json import json_normalize\n",
    "def foo(s1):\n",
    "    return \"'%s'\" % s1\n",
    "def getreview(str,num):\n",
    "    result=[]\n",
    "    #nn=[i for i, value in enumerate(data1) if value == 'oMy_rEb0UBEmMlu-zcxnoQ']\n",
    "    nn=[i for i, value in enumerate(data1) if value == '_6Xh4h2EOxAZqzsTsJ_4OA']\n",
    "    count=0\n",
    "    with open(source2) as f:\n",
    "        for line_number, line in enumerate(f):\n",
    "            #print(line_number)\n",
    "            if count <= (len(nn)-1):\n",
    "               if (nn[count]== line_number):\n",
    "                  count+=1\n",
    "                  result.append(json.loads(line))\n",
    "            else:\n",
    "                break\n",
    "                  \n",
    "            \n",
    "        #ans = json_normalize(result, 'user_id','date','text')\n",
    "        return(result)\n",
    "            \n",
    "df=pd.read_csv(userdatapath, header=0,  index_col=0, nrows=numsamples)\n",
    "for k in range(0,1):\n",
    "    str1=''.join(df['user_id'].iloc[[k]].values)\n",
    "    str2= foo(str1)\n",
    "    dd=getreview(str2,k)"
   ]
  },
  {
   "cell_type": "code",
   "execution_count": 24,
   "metadata": {},
   "outputs": [
    {
     "data": {
      "text/plain": [
       "\"I used to love this place and they always did a great job. But I went in Tuesday for a gel manicure and already have a huge chip in my nail. Now this would maybe be reasonable if I did the dishes or scrubbed the floors-however I have done neither! I'm disappointed because I haven't done anything unusual and have a quite noticeable chip. My nails usually last at least three weeks. This wasn't even 48 hours.\\n\\nEdited to add-as expected excellent customer service as the owner already responded, less than 15 minutes after my original comment. Can I come in over the weekend to have it fixed?\""
      ]
     },
     "execution_count": 24,
     "metadata": {},
     "output_type": "execute_result"
    }
   ],
   "source": [
    "total=pd.DataFrame(dd)\n",
    "text_nlp=''.join(total['text'].values.tolist())\n",
    "text_nlp"
   ]
  },
  {
   "cell_type": "code",
   "execution_count": 27,
   "metadata": {},
   "outputs": [
    {
     "name": "stdout",
     "output_type": "stream",
     "text": [
      "['I', 'used', 'to', 'love', 'this', 'place', 'and', 'they', 'always', 'did', 'a', 'great', 'job', '.', 'But', 'I', 'went', 'in', 'Tuesday', 'for', 'a', 'gel', 'manicure', 'and', 'already', 'have', 'a', 'huge', 'chip', 'in', 'my', 'nail', '.', 'Now', 'this', 'would', 'maybe', 'be', 'reasonable', 'if', 'I', 'did', 'the', 'dishes', 'or', 'scrubbed', 'the', 'floors-however', 'I', 'have', 'done', 'neither', '!', 'I', \"'m\", 'disappointed', 'because', 'I', 'have', \"n't\", 'done', 'anything', 'unusual', 'and', 'have', 'a', 'quite', 'noticeable', 'chip', '.', 'My', 'nails', 'usually', 'last', 'at', 'least', 'three', 'weeks', '.', 'This', 'was', \"n't\", 'even', '48', 'hours', '.', 'Edited', 'to', 'add-as', 'expected', 'excellent', 'customer', 'service', 'as', 'the', 'owner', 'already', 'responded', ',', 'less', 'than', '15', 'minutes', 'after', 'my', 'original', 'comment', '.', 'Can', 'I', 'come', 'in', 'over', 'the', 'weekend', 'to', 'have', 'it', 'fixed', '?']\n",
      "<FreqDist with 86 samples and 120 outcomes>\n"
     ]
    },
    {
     "data": {
      "image/png": "[encoded data removed]",
      "text/plain": [
       "<Figure size 432x288 with 1 Axes>"
      ]
     },
     "metadata": {},
     "output_type": "display_data"
    }
   ],
   "source": [
    "from nltk.tokenize import word_tokenize\n",
    "from nltk.probability import FreqDist\n",
    "import matplotlib.pyplot as plt\n",
    "tokenized_word=word_tokenize(text_nlp)\n",
    "print(tokenized_word)\n",
    "fdist = FreqDist(tokenized_word)\n",
    "print(fdist)\n",
    "fdist.plot(30,cumulative=False)\n",
    "plt.show()"
   ]
  },
  {
   "cell_type": "code",
   "execution_count": null,
   "metadata": {},
   "outputs": [],
   "source": []
  }
 ],
 "metadata": {
  "kernelspec": {
   "display_name": "Python 3",
   "language": "python",
   "name": "python3"
  },
  "language_info": {
   "codemirror_mode": {
    "name": "ipython",
    "version": 3
   },
   "file_extension": ".py",
   "mimetype": "text/x-python",
   "name": "python",
   "nbconvert_exporter": "python",
   "pygments_lexer": "ipython3",
   "version": "3.6.5"
  }
 },
 "nbformat": 4,
 "nbformat_minor": 2
}
