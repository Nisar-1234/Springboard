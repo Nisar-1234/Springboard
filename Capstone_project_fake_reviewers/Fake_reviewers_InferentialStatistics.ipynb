{
 "cells": [
  {
   "cell_type": "markdown",
   "metadata": {},
   "source": [
    "# Fake reviewer: Inferential Statistics"
   ]
  },
  {
   "cell_type": "markdown",
   "metadata": {},
   "source": [
    "**Main Concepts:** Apply inferential statistics and hypothesis testing\n",
    "\n",
    "**Learning Objectives:**\n",
    " - Understand the fundamentals of statistical inference and hypothesis testing\n",
    " - Perform hypothesis testing for numeric and categorical data to identify statistical significance"
   ]
  },
  {
   "cell_type": "markdown",
   "metadata": {},
   "source": [
    "## Concepts to Think About"
   ]
  },
  {
   "cell_type": "markdown",
   "metadata": {},
   "source": [
    "**Potential Solution:** 6 Clues That an Online Review Might Be Fake\n",
    "\n",
    " 1. There’s no information about the reviewer. Users who only post a small number of reviews or have no profile information or social connections are more likely to be fibbing.\n",
    "\n",
    "2. The opinions are all-or-nothing. Fabricated reviews tend to be more extreme. Five- and one-star reviews more likely to be fake than others,” Luca says. \n",
    "\n",
    "3. Several are posted at once. A company paid for a batch of reviews, all of which were uploaded at roughly the same time. “Suddenly a product or company with no reviews or one every few months will have five in a row all mentioning something similar, from the same day,” she says.\n",
    "\n",
    "4. They don’t mention details. The Cornell team found that fake hotel reviewers included less description of the physical space of a guest room or other parts of a hotel; instead, they often talked about the people they were supposedly traveling with or the reason for their trip. (They also used the word “I” a lot more.) \n",
    "\n",
    "5. They use smaller words. we’re telling a lie, our vocabulary tends to suffer because we’re already expending mental energy on the fabrication. As a result, fake reviews are characterized by shorter words.\n",
    "\n",
    "6. They’re very short. Brevity can also be suspect when it comes to the review itself, Luca says. “One of the markers of real reviews is someone has taken the time to write something meaningful.” Especially since fake review mills may only pay a few dollars (or less) per review, there’s an incentive for writer to dash them off quickly. "
   ]
  },
  {
   "cell_type": "markdown",
   "metadata": {},
   "source": [
    "**Project Question:** Based on the above concerns is there a way to find relation among different aspects in fake reviewers. "
   ]
  },
  {
   "cell_type": "markdown",
   "metadata": {},
   "source": [
    "**Questions for Concern:** \n",
    "1. Is there a correlation between user_id and bussiness_id reviewed ?\n",
    "http://scikit-learn.org/stable/modules/generated/sklearn.feature_extraction.text.TfidfVectorizer.html\n",
    " - Most Important Variable: Are fake reviewers more prone to certain bussiness?\n",
    "2. Are there strong correlations between user_id and user_id of friends?\n",
    "3. Is there a relation between the length of review and number of reviews."
   ]
  },
  {
   "cell_type": "markdown",
   "metadata": {},
   "source": [
    "**Note:** *The data was found from the “Human Resources Analytics” dataset provided by Kaggle’s website. https://www.kaggle.com/ludobenistant/hr-analytics*\n",
    "\n",
    "**Note:** THIS DATASET IS SIMULATED"
   ]
  },
  {
   "cell_type": "code",
   "execution_count": 1,
   "metadata": {},
   "outputs": [],
   "source": [
    "import pandas as pd\n",
    "import json\n",
    "import numpy as np\n",
    "from sklearn import preprocessing\n",
    "import matplotlib.pyplot as plt\n",
    "from scipy import stats\n",
    "import matplotlib.pyplot as plt\n",
    "from statsmodels.distributions.empirical_distribution import ECDF \n",
    "import seaborn as sns\n",
    "userdatapath = '/home/titli/Documents/Springboard1/test.csv'\n",
    "selecteddatapath = '/home/titli/Documents/Springboard1/test1.csv'\n",
    "reviewfile= '/home/titli/Documents/Springboard1/dataset/review.json'\n",
    "numsamples=200\n",
    "rowsamples=20"
   ]
  },
  {
   "cell_type": "code",
   "execution_count": 2,
   "metadata": {},
   "outputs": [],
   "source": [
    "fakerows=[0,8,12,15,19,25,28,29,45,47,53,54,65,71,174,85,87,94,101,106,114,126,127,\\\n",
    "         128,136,142,149,153,155,167]\n",
    "realrows=[1,2,3,4,5,6,7,9,10,13,17,18,21,24,26,27,30,31,32,33,34,35,36,37,38,39,40,42,43,44]"
   ]
  },
  {
   "cell_type": "code",
   "execution_count": 3,
   "metadata": {},
   "outputs": [],
   "source": [
    "old=pd.read_csv(userdatapath, header=0,  index_col=0, nrows=numsamples)\n",
    "inter1=[]\n",
    "inter2=[]\n",
    "for row in fakerows:\n",
    "    line1= old.iloc[row]\n",
    "    inter1.append(line1)\n",
    "faker=pd.DataFrame(inter1)\n",
    "#faker.set_index('user_id')\n",
    "\n",
    "for row in realrows:\n",
    "    line2= old.iloc[row]\n",
    "    inter2.append(line2)\n",
    "real=pd.DataFrame(inter2)\n",
    "#real.set_index('user_id')"
   ]
  },
  {
   "cell_type": "code",
   "execution_count": 4,
   "metadata": {},
   "outputs": [],
   "source": [
    "from pandas.io.json import json_normalize\n",
    "def getreviews(user_ids):\n",
    "    \"\"\" gets one text review for each user in user_ids list\"\"\"\n",
    "    result=[]\n",
    "    with open(reviewfile) as f:\n",
    "         for line in f:\n",
    "             record = json.loads(line)\n",
    "             if record['user_id'] in user_ids: \n",
    "                result.append(record)\n",
    "             if len(result) >= numsamples:\n",
    "                break\n",
    "    reviewdata = pd.DataFrame(result)\n",
    "    return reviewdata"
   ]
  },
  {
   "cell_type": "code",
   "execution_count": 5,
   "metadata": {},
   "outputs": [],
   "source": [
    "user_ids1 = real['user_id'].iloc[:30].values.tolist()\n",
    "user_ids2 = faker['user_id'].iloc[:30].values.tolist()\n",
    "review_texts1 = getreviews(user_ids1)\n",
    "review_texts2 = getreviews(user_ids2)\n",
    "df1 = []\n",
    "for k in range(0,30):\n",
    "    df1.append({'rev_length': len(review_texts1['text'].iloc[k])})\n",
    "revlen1=pd.DataFrame(df1)\n",
    "df2 = []\n",
    "for k in range(0,30):\n",
    "    df2.append({'rev_length': len(review_texts2['text'].iloc[k])})\n",
    "revlen2=pd.DataFrame(df2)"
   ]
  },
  {
   "cell_type": "markdown",
   "metadata": {},
   "source": [
    "<font color='purple'>The sklearn.feature_extraction module can be used to extract features in a format supported by machine learning algorithms from datasets consisting of formats such as text and image.\n",
    "Feature extraction is very different from Feature selection: the former consists in transforming arbitrary data, such as text or images, into numerical features usable for machine learning. The latter is a machine learning technique applied on these features.</font>"
   ]
  },
  {
   "cell_type": "code",
   "execution_count": 6,
   "metadata": {},
   "outputs": [
    {
     "name": "stdout",
     "output_type": "stream",
     "text": [
      "Average number of reviews by fakers is 10.9 Average number of reviews by real people is 3.77\n"
     ]
    }
   ],
   "source": [
    "frn = sum(faker['review_count'])/30\n",
    "rrn = sum(real['review_count'])/30\n",
    "print('Average number of reviews by fakers is {:.3}'.format(frn)+ \\\n",
    "      ' Average number of reviews by real people is {:.3}'.format(rrn))"
   ]
  },
  {
   "cell_type": "code",
   "execution_count": 8,
   "metadata": {},
   "outputs": [
    {
     "name": "stdout",
     "output_type": "stream",
     "text": [
      "Variance in percentage of reviews for fakers is 0.00325  variance in percentage of real people is 0.00121 \n",
      "Variance in sample distribution is 0.00445  and standard deviation in sample distribution is 0.0667 \n"
     ]
    }
   ],
   "source": [
    "P1= frn/100\n",
    "var_f=(P1*(1-P1)/30)\n",
    "P2=rrn/100\n",
    "var_r=(P2*(1-P2)/30)\n",
    "print('Variance in percentage of reviews for fakers is {:.3} '.format(var_f)+ \\\n",
    "      ' variance in percentage of real people is {:.3} '.format(var_r))\n",
    "## Sampling Distribution P1-P2 variance\n",
    "var_b_w= var_f + var_r\n",
    "std_b_w=np.sqrt(var_b_w)\n",
    "\n",
    "print('Variance in sample distribution is {:.3} '.format(var_b_w)+ \\\n",
    "      ' and standard deviation in sample distribution is {:.3} '.format(std_b_w))"
   ]
  },
  {
   "cell_type": "markdown",
   "metadata": {},
   "source": [
    "This is a binary response type of problem (1,0) with discrete variable and a Bernoulli distribution or binomial distribution. However, testing the difference between the \"percentage called back\" for each race will follow a normal distribution  and hence CLT can be applied. The requirements for CLT is that the samples must be randomly drawn, and be representative of the population. Conversely since sample size **n** is > 30, z-statistics is more appropriate that t-statistics."
   ]
  },
  {
   "cell_type": "markdown",
   "metadata": {},
   "source": [
    "A two-sample z-test can be used to test the difference between two population proportions\n",
    "p_1 and p_2 when a sample is randomly selected from each population. The test statistic\n",
    "is\n",
    "<br>\n",
    "z = $\\frac{(\\hat p_1 - \\hat p_2) - (p_1 - p_2)}{\\sqrt{\\bar{p}\\bar{q}(\\frac{1}{n_1}+\\frac{1}{n_2})}}$\n",
    "\n",
    "Where:\n",
    "\n",
    "* $\\bar{p} = \\frac{x_1 + x_2}{n_1 + n_2}$\n",
    "\n",
    "* $\\bar{q} = 1 - \\bar{p}$\n",
    "\n",
    "* $\\hat p_1 = \\frac{x_1}{n_1}$\n",
    "\n",
    "* $\\hat p_2 = \\frac{x_2}{n_2}$\n",
    "\n",
    "* $x_1$, $x_2$ : number of success in each sample.\n",
    "\n",
    "* $p_1$, $p_2$:Population proportions.\n",
    "\n",
    "* $\\hat p_1$, $\\hat p_2$  :Sample proportions of successes."
   ]
  },
  {
   "cell_type": "markdown",
   "metadata": {},
   "source": [
    "### The null hypotheses\n",
    "Ho: There is no difference between fakers and real people reviews.\n",
    "<br>\n",
    "H1: There is difference between fakers and real people reviews.\n",
    "<br>\n",
    "Since the sample size is > 30 z-statistic is appropriate.\n",
    "#### Frequentist statistical approaches of Z-statistics"
   ]
  },
  {
   "cell_type": "code",
   "execution_count": 9,
   "metadata": {},
   "outputs": [
    {
     "name": "stdout",
     "output_type": "stream",
     "text": [
      "The z-score is: 106.36443888383319\n",
      "The p-value is: 0.0\n"
     ]
    }
   ],
   "source": [
    "#(p1-p2)\n",
    "difference = P1 - P2\n",
    "n1=30\n",
    "n2= 30\n",
    "#calculate p-bar\n",
    "\n",
    "\n",
    "p_bar = (sum(faker['review_count']) + sum(real['review_count']))/ (n1 +n2)/100\n",
    "#calculate q-bar\n",
    "q_bar = 1 - p_bar\n",
    "#calculate p-hat 1\n",
    "p_hat_1 = np.divide(sum(faker['review_count']),n1)\n",
    "#calculate p-hat 2\n",
    "p_hat_2 = np.divide(sum(real['review_count']),n2)\n",
    "x = np.add(np.divide(1,n1),np.divide(1,n2))\n",
    "#calculate z-score\n",
    "z = (p_hat_1 - p_hat_2) / np.sqrt(p_bar * q_bar * x)\n",
    "#calculate p-value\n",
    "p = (1 - stats.norm.cdf(z)) * 2\n",
    "print('The z-score is: {}\\nThe p-value is: {}'.format(z,p))"
   ]
  },
  {
   "cell_type": "markdown",
   "metadata": {},
   "source": [
    "#### Margin of Error\n",
    "z * $\\sqrt{\\bar{p}\\bar{q}(\\frac{1}{n_1}+\\frac{1}{n_2})}$\n",
    "\n",
    "where z is the z-score for the desired confidence interval (critical values) e.g. if you want the z score for 95% confidence interval, you can reference the table [here](http://www.statisticshowto.com/probability-and-statistics/find-critical-values/#CommonCI) and see that the z score for this critical value is 1.96"
   ]
  },
  {
   "cell_type": "code",
   "execution_count": 10,
   "metadata": {},
   "outputs": [
    {
     "name": "stdout",
     "output_type": "stream",
     "text": [
      "The margin of error is: 0.1321\n"
     ]
    }
   ],
   "source": [
    "moe = 1.96 * np.sqrt(p_bar * q_bar * x)\n",
    "print('The margin of error is: {:.4}'.format(moe))"
   ]
  },
  {
   "cell_type": "markdown",
   "metadata": {},
   "source": [
    "#### Confidence Interval values\n",
    "Using the margin of error, we can take our sample difference, add and subtract the m.o.e and establish (in this case) the 95% confidence interval. \n",
    "\n",
    "* Confidence Interval = ($p_1 - p_2$) $\\pm$ (margin of error)"
   ]
  },
  {
   "cell_type": "code",
   "execution_count": 11,
   "metadata": {},
   "outputs": [
    {
     "name": "stdout",
     "output_type": "stream",
     "text": [
      "With 95% confidence, the interval range is :\n",
      " [-0.06039501498247786, 0.20372834831581121]\n"
     ]
    }
   ],
   "source": [
    "ci = [(difference-moe), (difference+moe)]\n",
    "print('With 95% confidence, the interval range is :\\n {}'.format(ci))"
   ]
  },
  {
   "cell_type": "markdown",
   "metadata": {},
   "source": [
    "The p-value is 0 and null hypothesis gives the the same result that there is difference between number of reviews written by fakers and real people. "
   ]
  },
  {
   "cell_type": "markdown",
   "metadata": {},
   "source": [
    "## Statistical Analysis"
   ]
  },
  {
   "cell_type": "markdown",
   "metadata": {},
   "source": [
    "## Histogram of Fakers and real people"
   ]
  },
  {
   "cell_type": "code",
   "execution_count": 12,
   "metadata": {},
   "outputs": [
    {
     "data": {
      "image/png": "[encoded data removed]",
      "text/plain": [
       "<Figure size 432x288 with 1 Axes>"
      ]
     },
     "metadata": {},
     "output_type": "display_data"
    }
   ],
   "source": [
    "faker[\"review_count\"].plot(kind='hist',color='0.5', bins = 25, title = 'Review count of fakers').set_xlabel('Review count')\n",
    "st_100=round((faker[\"review_count\"]).std(),4)"
   ]
  },
  {
   "cell_type": "code",
   "execution_count": 13,
   "metadata": {},
   "outputs": [
    {
     "data": {
      "image/png": "[encoded data removed]",
      "text/plain": [
       "<Figure size 432x288 with 1 Axes>"
      ]
     },
     "metadata": {},
     "output_type": "display_data"
    }
   ],
   "source": [
    "real[\"review_count\"].plot(kind='hist',color='0.5', bins = 25, title = 'Review count of real people').set_xlabel('Review count')\n",
    "st_100=round((real[\"review_count\"]).std(),4)"
   ]
  },
  {
   "cell_type": "code",
   "execution_count": 14,
   "metadata": {},
   "outputs": [
    {
     "data": {
      "image/png": "[encoded data removed]",
      "text/plain": [
       "<Figure size 432x288 with 1 Axes>"
      ]
     },
     "metadata": {},
     "output_type": "display_data"
    }
   ],
   "source": [
    "revlen1.plot(kind='hist',color='0.5', bins = 25, title = 'Length of reviews of fakers').set_xlabel('Length of review')\n",
    "st_100=round((faker[\"review_count\"]).std(),4)"
   ]
  },
  {
   "cell_type": "code",
   "execution_count": 15,
   "metadata": {},
   "outputs": [
    {
     "data": {
      "image/png": "[encoded data removed]",
      "text/plain": [
       "<Figure size 432x288 with 1 Axes>"
      ]
     },
     "metadata": {},
     "output_type": "display_data"
    }
   ],
   "source": [
    "revlen2.plot(kind='hist',color='0.5', bins = 25, title = 'Length of reviews of real people').set_xlabel('Length of review')\n",
    "st_100=round((faker[\"review_count\"]).std(),4)"
   ]
  },
  {
   "cell_type": "code",
   "execution_count": null,
   "metadata": {},
   "outputs": [],
   "source": []
  }
 ],
 "metadata": {
  "kernelspec": {
   "display_name": "Python 3",
   "language": "python",
   "name": "python3"
  },
  "language_info": {
   "codemirror_mode": {
    "name": "ipython",
    "version": 3
   },
   "file_extension": ".py",
   "mimetype": "text/x-python",
   "name": "python",
   "nbconvert_exporter": "python",
   "pygments_lexer": "ipython3",
   "version": "3.6.5"
  }
 },
 "nbformat": 4,
 "nbformat_minor": 2
}
